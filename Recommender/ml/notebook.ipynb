{
 "cells": [
  {
   "cell_type": "code",
   "execution_count": 1134,
   "id": "b036c399-c86a-4213-8239-fdc2787510fb",
   "metadata": {},
   "outputs": [],
   "source": [
    "from dotenv import load_dotenv\n",
    "import os\n",
    "from pymongo import MongoClient\n",
    "import numpy as np\n",
    "import pandas as pd"
   ]
  },
  {
   "cell_type": "code",
   "execution_count": 1136,
   "id": "1d7f5bd0-7155-41ff-9f7b-a2134a816a59",
   "metadata": {},
   "outputs": [],
   "source": [
    "load_dotenv()\n",
    "MONGO_URI=os.getenv(\"MONGO_URI\")\n",
    "DB_NAME=os.getenv(\"DB_NAME\")\n",
    "COLLECTION_NAME=os.getenv(\"COLLECTION_NAME\")"
   ]
  },
  {
   "cell_type": "code",
   "execution_count": 1138,
   "id": "c28ae979-fa82-4ceb-812e-01b0000ec4d4",
   "metadata": {},
   "outputs": [],
   "source": [
    "client = MongoClient(MONGO_URI)\n",
    "db=client[DB_NAME]\n",
    "collection = db[COLLECTION_NAME]"
   ]
  },
  {
   "cell_type": "code",
   "execution_count": 1139,
   "id": "5dfd2c3e-8a08-46b8-98f8-d09175bea4b5",
   "metadata": {},
   "outputs": [],
   "source": [
    "movies_cursor=collection.find({})\n",
    "old_movies = pd.DataFrame(list(movies_cursor))"
   ]
  },
  {
   "cell_type": "code",
   "execution_count": 1140,
   "id": "179b5590-f503-45a7-9d2e-d0811f02d687",
   "metadata": {},
   "outputs": [
    {
     "data": {
      "text/html": [
       "<div>\n",
       "<style scoped>\n",
       "    .dataframe tbody tr th:only-of-type {\n",
       "        vertical-align: middle;\n",
       "    }\n",
       "\n",
       "    .dataframe tbody tr th {\n",
       "        vertical-align: top;\n",
       "    }\n",
       "\n",
       "    .dataframe thead th {\n",
       "        text-align: right;\n",
       "    }\n",
       "</style>\n",
       "<table border=\"1\" class=\"dataframe\">\n",
       "  <thead>\n",
       "    <tr style=\"text-align: right;\">\n",
       "      <th></th>\n",
       "      <th>_id</th>\n",
       "      <th>tmdbId</th>\n",
       "      <th>__v</th>\n",
       "      <th>cast</th>\n",
       "      <th>director</th>\n",
       "      <th>genres</th>\n",
       "      <th>plot</th>\n",
       "      <th>poster</th>\n",
       "      <th>reviews</th>\n",
       "      <th>title</th>\n",
       "      <th>year</th>\n",
       "      <th>Avgrating</th>\n",
       "    </tr>\n",
       "  </thead>\n",
       "  <tbody>\n",
       "    <tr>\n",
       "      <th>0</th>\n",
       "      <td>67e016024ebb8c0dabc71b40</td>\n",
       "      <td>1151470</td>\n",
       "      <td>0</td>\n",
       "      <td>[Jet Jandreau, Alison Jaye Horowitz, Ana Alexa...</td>\n",
       "      <td>Lee Whittaker</td>\n",
       "      <td>[Thriller, Action]</td>\n",
       "      <td>Returning from Afghanistan, Jessica, a Spec OP...</td>\n",
       "      <td>https://image.tmdb.org/t/p/w500/pWuGTUPJfxqJff...</td>\n",
       "      <td>[]</td>\n",
       "      <td>The Vigilante</td>\n",
       "      <td>2023</td>\n",
       "      <td>0</td>\n",
       "    </tr>\n",
       "  </tbody>\n",
       "</table>\n",
       "</div>"
      ],
      "text/plain": [
       "                        _id   tmdbId  __v  \\\n",
       "0  67e016024ebb8c0dabc71b40  1151470    0   \n",
       "\n",
       "                                                cast       director  \\\n",
       "0  [Jet Jandreau, Alison Jaye Horowitz, Ana Alexa...  Lee Whittaker   \n",
       "\n",
       "               genres                                               plot  \\\n",
       "0  [Thriller, Action]  Returning from Afghanistan, Jessica, a Spec OP...   \n",
       "\n",
       "                                              poster reviews          title  \\\n",
       "0  https://image.tmdb.org/t/p/w500/pWuGTUPJfxqJff...      []  The Vigilante   \n",
       "\n",
       "   year  Avgrating  \n",
       "0  2023          0  "
      ]
     },
     "execution_count": 1140,
     "metadata": {},
     "output_type": "execute_result"
    }
   ],
   "source": [
    "old_movies.head(1)"
   ]
  },
  {
   "cell_type": "code",
   "execution_count": null,
   "id": "78626407-f5b9-4341-8b2e-58cdfe0f3ffc",
   "metadata": {},
   "outputs": [],
   "source": [
    "import pickle"
   ]
  },
  {
   "cell_type": "code",
   "execution_count": 1257,
   "id": "4c91f394-b5dd-4ae8-8a0a-90d3dfe4ef24",
   "metadata": {},
   "outputs": [],
   "source": [
    "with open('movies_data.pkl','wb') as f:\n",
    "    pickle.dump(old_movies,f)"
   ]
  },
  {
   "cell_type": "code",
   "execution_count": 1141,
   "id": "f80a6f48-e690-4697-8fac-a2faab259d96",
   "metadata": {},
   "outputs": [
    {
     "data": {
      "text/html": [
       "<div>\n",
       "<style scoped>\n",
       "    .dataframe tbody tr th:only-of-type {\n",
       "        vertical-align: middle;\n",
       "    }\n",
       "\n",
       "    .dataframe tbody tr th {\n",
       "        vertical-align: top;\n",
       "    }\n",
       "\n",
       "    .dataframe thead th {\n",
       "        text-align: right;\n",
       "    }\n",
       "</style>\n",
       "<table border=\"1\" class=\"dataframe\">\n",
       "  <thead>\n",
       "    <tr style=\"text-align: right;\">\n",
       "      <th></th>\n",
       "      <th>_id</th>\n",
       "      <th>cast</th>\n",
       "      <th>director</th>\n",
       "      <th>genres</th>\n",
       "      <th>plot</th>\n",
       "      <th>title</th>\n",
       "    </tr>\n",
       "  </thead>\n",
       "  <tbody>\n",
       "    <tr>\n",
       "      <th>0</th>\n",
       "      <td>67e016024ebb8c0dabc71b40</td>\n",
       "      <td>[Jet Jandreau, Alison Jaye Horowitz, Ana Alexa...</td>\n",
       "      <td>Lee Whittaker</td>\n",
       "      <td>[Thriller, Action]</td>\n",
       "      <td>Returning from Afghanistan, Jessica, a Spec OP...</td>\n",
       "      <td>The Vigilante</td>\n",
       "    </tr>\n",
       "  </tbody>\n",
       "</table>\n",
       "</div>"
      ],
      "text/plain": [
       "                        _id  \\\n",
       "0  67e016024ebb8c0dabc71b40   \n",
       "\n",
       "                                                cast       director  \\\n",
       "0  [Jet Jandreau, Alison Jaye Horowitz, Ana Alexa...  Lee Whittaker   \n",
       "\n",
       "               genres                                               plot  \\\n",
       "0  [Thriller, Action]  Returning from Afghanistan, Jessica, a Spec OP...   \n",
       "\n",
       "           title  \n",
       "0  The Vigilante  "
      ]
     },
     "execution_count": 1141,
     "metadata": {},
     "output_type": "execute_result"
    }
   ],
   "source": [
    "movies = old_movies[['_id','cast','director','genres','plot','title']]\n",
    "movies.head(1)"
   ]
  },
  {
   "cell_type": "code",
   "execution_count": 1142,
   "id": "b06e83df-f87c-4c37-baf9-67ce81283dfe",
   "metadata": {},
   "outputs": [
    {
     "data": {
      "text/plain": [
       "_id         0\n",
       "cast        0\n",
       "director    0\n",
       "genres      0\n",
       "plot        0\n",
       "title       0\n",
       "dtype: int64"
      ]
     },
     "execution_count": 1142,
     "metadata": {},
     "output_type": "execute_result"
    }
   ],
   "source": [
    "movies.isnull().sum()"
   ]
  },
  {
   "cell_type": "code",
   "execution_count": 1143,
   "id": "41ec98d3-45cb-4a26-95b2-f5e24957dca7",
   "metadata": {},
   "outputs": [
    {
     "data": {
      "text/plain": [
       "['Jet Jandreau',\n",
       " 'Alison Jaye Horowitz',\n",
       " 'Ana Alexander',\n",
       " 'Eric Pierce',\n",
       " 'Jamie Timmons']"
      ]
     },
     "execution_count": 1143,
     "metadata": {},
     "output_type": "execute_result"
    }
   ],
   "source": [
    "movies['cast'][0]"
   ]
  },
  {
   "cell_type": "code",
   "execution_count": null,
   "id": "0fec4548-97c0-4c82-a17a-6b68bc9570a1",
   "metadata": {},
   "outputs": [],
   "source": [
    "movies['cast']=movies['cast'].apply(lambda x:x[:3])\n",
    "movies['genres']=movies['genres'].apply(lambda x:x[:2])\n",
    "movies.head(1)"
   ]
  },
  {
   "cell_type": "code",
   "execution_count": null,
   "id": "ffc2f28e-e3f6-4ec5-bc1d-1cf01038fb98",
   "metadata": {},
   "outputs": [],
   "source": [
    "#list conversion \n",
    "movies['director'] = movies['director'].apply(lambda x: [x])\n",
    "movies['plot']=movies['plot'].apply(lambda x:x.split())"
   ]
  },
  {
   "cell_type": "code",
   "execution_count": 1146,
   "id": "adbfd652-74ec-45e6-9af2-6f41b7ba5d79",
   "metadata": {},
   "outputs": [
    {
     "data": {
      "text/html": [
       "<div>\n",
       "<style scoped>\n",
       "    .dataframe tbody tr th:only-of-type {\n",
       "        vertical-align: middle;\n",
       "    }\n",
       "\n",
       "    .dataframe tbody tr th {\n",
       "        vertical-align: top;\n",
       "    }\n",
       "\n",
       "    .dataframe thead th {\n",
       "        text-align: right;\n",
       "    }\n",
       "</style>\n",
       "<table border=\"1\" class=\"dataframe\">\n",
       "  <thead>\n",
       "    <tr style=\"text-align: right;\">\n",
       "      <th></th>\n",
       "      <th>_id</th>\n",
       "      <th>cast</th>\n",
       "      <th>director</th>\n",
       "      <th>genres</th>\n",
       "      <th>plot</th>\n",
       "      <th>title</th>\n",
       "    </tr>\n",
       "  </thead>\n",
       "  <tbody>\n",
       "    <tr>\n",
       "      <th>0</th>\n",
       "      <td>67e016024ebb8c0dabc71b40</td>\n",
       "      <td>[Jet Jandreau, Alison Jaye Horowitz, Ana Alexa...</td>\n",
       "      <td>[Lee Whittaker]</td>\n",
       "      <td>[Thriller, Action]</td>\n",
       "      <td>[Returning, from, Afghanistan,, Jessica,, a, S...</td>\n",
       "      <td>The Vigilante</td>\n",
       "    </tr>\n",
       "  </tbody>\n",
       "</table>\n",
       "</div>"
      ],
      "text/plain": [
       "                        _id  \\\n",
       "0  67e016024ebb8c0dabc71b40   \n",
       "\n",
       "                                                cast         director  \\\n",
       "0  [Jet Jandreau, Alison Jaye Horowitz, Ana Alexa...  [Lee Whittaker]   \n",
       "\n",
       "               genres                                               plot  \\\n",
       "0  [Thriller, Action]  [Returning, from, Afghanistan,, Jessica,, a, S...   \n",
       "\n",
       "           title  \n",
       "0  The Vigilante  "
      ]
     },
     "execution_count": 1146,
     "metadata": {},
     "output_type": "execute_result"
    }
   ],
   "source": [
    "movies.head(1)"
   ]
  },
  {
   "cell_type": "code",
   "execution_count": null,
   "id": "b8836473-0f55-443e-8826-336099012df5",
   "metadata": {},
   "outputs": [],
   "source": [
    "movies['cast']=movies['cast'].apply(lambda x:[i.replace(\" \",\"\") for i in x])\n",
    "movies['director'] = movies['director'].apply(lambda x:[i.replace(\" \",\"\") for i in x])"
   ]
  },
  {
   "cell_type": "code",
   "execution_count": 1148,
   "id": "da310307-7925-4ec2-85a9-90d7ca15e0d5",
   "metadata": {},
   "outputs": [
    {
     "data": {
      "text/html": [
       "<div>\n",
       "<style scoped>\n",
       "    .dataframe tbody tr th:only-of-type {\n",
       "        vertical-align: middle;\n",
       "    }\n",
       "\n",
       "    .dataframe tbody tr th {\n",
       "        vertical-align: top;\n",
       "    }\n",
       "\n",
       "    .dataframe thead th {\n",
       "        text-align: right;\n",
       "    }\n",
       "</style>\n",
       "<table border=\"1\" class=\"dataframe\">\n",
       "  <thead>\n",
       "    <tr style=\"text-align: right;\">\n",
       "      <th></th>\n",
       "      <th>_id</th>\n",
       "      <th>cast</th>\n",
       "      <th>director</th>\n",
       "      <th>genres</th>\n",
       "      <th>plot</th>\n",
       "      <th>title</th>\n",
       "    </tr>\n",
       "  </thead>\n",
       "  <tbody>\n",
       "    <tr>\n",
       "      <th>0</th>\n",
       "      <td>67e016024ebb8c0dabc71b40</td>\n",
       "      <td>[JetJandreau, AlisonJayeHorowitz, AnaAlexander]</td>\n",
       "      <td>[LeeWhittaker]</td>\n",
       "      <td>[Thriller, Action]</td>\n",
       "      <td>[Returning, from, Afghanistan,, Jessica,, a, S...</td>\n",
       "      <td>The Vigilante</td>\n",
       "    </tr>\n",
       "    <tr>\n",
       "      <th>1</th>\n",
       "      <td>67e016024ebb8c0dabc71b41</td>\n",
       "      <td>[RachelZegler, GalGadot, AndrewBurnap]</td>\n",
       "      <td>[MarcWebb]</td>\n",
       "      <td>[Family, Fantasy]</td>\n",
       "      <td>[A, princess, joins, forces, with, seven, dwar...</td>\n",
       "      <td>Snow White</td>\n",
       "    </tr>\n",
       "    <tr>\n",
       "      <th>2</th>\n",
       "      <td>67e016024ebb8c0dabc71b42</td>\n",
       "      <td>[MillieBobbyBrown, ChrisPratt, KeHuyQuan]</td>\n",
       "      <td>[JoeRusso]</td>\n",
       "      <td>[Science Fiction, Adventure]</td>\n",
       "      <td>[An, orphaned, teen, hits, the, road, with, a,...</td>\n",
       "      <td>The Electric State</td>\n",
       "    </tr>\n",
       "    <tr>\n",
       "      <th>3</th>\n",
       "      <td>67e016024ebb8c0dabc71b43</td>\n",
       "      <td>[SadieSink, KelvinHarrison,Jr., MurrayBartlett]</td>\n",
       "      <td>[GeremyJasper]</td>\n",
       "      <td>[Music, Drama]</td>\n",
       "      <td>[A, farm, girl, is, on, an, epic, quest, to, r...</td>\n",
       "      <td>O'Dessa</td>\n",
       "    </tr>\n",
       "    <tr>\n",
       "      <th>4</th>\n",
       "      <td>67e016024ebb8c0dabc71b44</td>\n",
       "      <td>[ChristophWaltz, LucyLiu, CooperHoffman]</td>\n",
       "      <td>[SimonWest]</td>\n",
       "      <td>[Action, Comedy]</td>\n",
       "      <td>[Stuck, at, a, dead, end, but, vying, for, the...</td>\n",
       "      <td>Old Guy</td>\n",
       "    </tr>\n",
       "  </tbody>\n",
       "</table>\n",
       "</div>"
      ],
      "text/plain": [
       "                        _id                                             cast  \\\n",
       "0  67e016024ebb8c0dabc71b40  [JetJandreau, AlisonJayeHorowitz, AnaAlexander]   \n",
       "1  67e016024ebb8c0dabc71b41           [RachelZegler, GalGadot, AndrewBurnap]   \n",
       "2  67e016024ebb8c0dabc71b42        [MillieBobbyBrown, ChrisPratt, KeHuyQuan]   \n",
       "3  67e016024ebb8c0dabc71b43  [SadieSink, KelvinHarrison,Jr., MurrayBartlett]   \n",
       "4  67e016024ebb8c0dabc71b44         [ChristophWaltz, LucyLiu, CooperHoffman]   \n",
       "\n",
       "         director                        genres  \\\n",
       "0  [LeeWhittaker]            [Thriller, Action]   \n",
       "1      [MarcWebb]             [Family, Fantasy]   \n",
       "2      [JoeRusso]  [Science Fiction, Adventure]   \n",
       "3  [GeremyJasper]                [Music, Drama]   \n",
       "4     [SimonWest]              [Action, Comedy]   \n",
       "\n",
       "                                                plot               title  \n",
       "0  [Returning, from, Afghanistan,, Jessica,, a, S...       The Vigilante  \n",
       "1  [A, princess, joins, forces, with, seven, dwar...          Snow White  \n",
       "2  [An, orphaned, teen, hits, the, road, with, a,...  The Electric State  \n",
       "3  [A, farm, girl, is, on, an, epic, quest, to, r...             O'Dessa  \n",
       "4  [Stuck, at, a, dead, end, but, vying, for, the...             Old Guy  "
      ]
     },
     "execution_count": 1148,
     "metadata": {},
     "output_type": "execute_result"
    }
   ],
   "source": [
    "movies.head()"
   ]
  },
  {
   "cell_type": "code",
   "execution_count": null,
   "id": "86063787-cb9b-47e0-b261-3a22083f83f9",
   "metadata": {},
   "outputs": [],
   "source": [
    "movies['tags'] = movies['plot']+movies['cast']+movies['director']+movies['genres']"
   ]
  },
  {
   "cell_type": "code",
   "execution_count": 1150,
   "id": "c1b4eb22-12ab-4b8e-92d3-c42068fd9280",
   "metadata": {},
   "outputs": [
    {
     "data": {
      "text/html": [
       "<div>\n",
       "<style scoped>\n",
       "    .dataframe tbody tr th:only-of-type {\n",
       "        vertical-align: middle;\n",
       "    }\n",
       "\n",
       "    .dataframe tbody tr th {\n",
       "        vertical-align: top;\n",
       "    }\n",
       "\n",
       "    .dataframe thead th {\n",
       "        text-align: right;\n",
       "    }\n",
       "</style>\n",
       "<table border=\"1\" class=\"dataframe\">\n",
       "  <thead>\n",
       "    <tr style=\"text-align: right;\">\n",
       "      <th></th>\n",
       "      <th>_id</th>\n",
       "      <th>cast</th>\n",
       "      <th>director</th>\n",
       "      <th>genres</th>\n",
       "      <th>plot</th>\n",
       "      <th>title</th>\n",
       "      <th>tags</th>\n",
       "    </tr>\n",
       "  </thead>\n",
       "  <tbody>\n",
       "    <tr>\n",
       "      <th>0</th>\n",
       "      <td>67e016024ebb8c0dabc71b40</td>\n",
       "      <td>[JetJandreau, AlisonJayeHorowitz, AnaAlexander]</td>\n",
       "      <td>[LeeWhittaker]</td>\n",
       "      <td>[Thriller, Action]</td>\n",
       "      <td>[Returning, from, Afghanistan,, Jessica,, a, S...</td>\n",
       "      <td>The Vigilante</td>\n",
       "      <td>[Returning, from, Afghanistan,, Jessica,, a, S...</td>\n",
       "    </tr>\n",
       "    <tr>\n",
       "      <th>1</th>\n",
       "      <td>67e016024ebb8c0dabc71b41</td>\n",
       "      <td>[RachelZegler, GalGadot, AndrewBurnap]</td>\n",
       "      <td>[MarcWebb]</td>\n",
       "      <td>[Family, Fantasy]</td>\n",
       "      <td>[A, princess, joins, forces, with, seven, dwar...</td>\n",
       "      <td>Snow White</td>\n",
       "      <td>[A, princess, joins, forces, with, seven, dwar...</td>\n",
       "    </tr>\n",
       "    <tr>\n",
       "      <th>2</th>\n",
       "      <td>67e016024ebb8c0dabc71b42</td>\n",
       "      <td>[MillieBobbyBrown, ChrisPratt, KeHuyQuan]</td>\n",
       "      <td>[JoeRusso]</td>\n",
       "      <td>[Science Fiction, Adventure]</td>\n",
       "      <td>[An, orphaned, teen, hits, the, road, with, a,...</td>\n",
       "      <td>The Electric State</td>\n",
       "      <td>[An, orphaned, teen, hits, the, road, with, a,...</td>\n",
       "    </tr>\n",
       "    <tr>\n",
       "      <th>3</th>\n",
       "      <td>67e016024ebb8c0dabc71b43</td>\n",
       "      <td>[SadieSink, KelvinHarrison,Jr., MurrayBartlett]</td>\n",
       "      <td>[GeremyJasper]</td>\n",
       "      <td>[Music, Drama]</td>\n",
       "      <td>[A, farm, girl, is, on, an, epic, quest, to, r...</td>\n",
       "      <td>O'Dessa</td>\n",
       "      <td>[A, farm, girl, is, on, an, epic, quest, to, r...</td>\n",
       "    </tr>\n",
       "    <tr>\n",
       "      <th>4</th>\n",
       "      <td>67e016024ebb8c0dabc71b44</td>\n",
       "      <td>[ChristophWaltz, LucyLiu, CooperHoffman]</td>\n",
       "      <td>[SimonWest]</td>\n",
       "      <td>[Action, Comedy]</td>\n",
       "      <td>[Stuck, at, a, dead, end, but, vying, for, the...</td>\n",
       "      <td>Old Guy</td>\n",
       "      <td>[Stuck, at, a, dead, end, but, vying, for, the...</td>\n",
       "    </tr>\n",
       "  </tbody>\n",
       "</table>\n",
       "</div>"
      ],
      "text/plain": [
       "                        _id                                             cast  \\\n",
       "0  67e016024ebb8c0dabc71b40  [JetJandreau, AlisonJayeHorowitz, AnaAlexander]   \n",
       "1  67e016024ebb8c0dabc71b41           [RachelZegler, GalGadot, AndrewBurnap]   \n",
       "2  67e016024ebb8c0dabc71b42        [MillieBobbyBrown, ChrisPratt, KeHuyQuan]   \n",
       "3  67e016024ebb8c0dabc71b43  [SadieSink, KelvinHarrison,Jr., MurrayBartlett]   \n",
       "4  67e016024ebb8c0dabc71b44         [ChristophWaltz, LucyLiu, CooperHoffman]   \n",
       "\n",
       "         director                        genres  \\\n",
       "0  [LeeWhittaker]            [Thriller, Action]   \n",
       "1      [MarcWebb]             [Family, Fantasy]   \n",
       "2      [JoeRusso]  [Science Fiction, Adventure]   \n",
       "3  [GeremyJasper]                [Music, Drama]   \n",
       "4     [SimonWest]              [Action, Comedy]   \n",
       "\n",
       "                                                plot               title  \\\n",
       "0  [Returning, from, Afghanistan,, Jessica,, a, S...       The Vigilante   \n",
       "1  [A, princess, joins, forces, with, seven, dwar...          Snow White   \n",
       "2  [An, orphaned, teen, hits, the, road, with, a,...  The Electric State   \n",
       "3  [A, farm, girl, is, on, an, epic, quest, to, r...             O'Dessa   \n",
       "4  [Stuck, at, a, dead, end, but, vying, for, the...             Old Guy   \n",
       "\n",
       "                                                tags  \n",
       "0  [Returning, from, Afghanistan,, Jessica,, a, S...  \n",
       "1  [A, princess, joins, forces, with, seven, dwar...  \n",
       "2  [An, orphaned, teen, hits, the, road, with, a,...  \n",
       "3  [A, farm, girl, is, on, an, epic, quest, to, r...  \n",
       "4  [Stuck, at, a, dead, end, but, vying, for, the...  "
      ]
     },
     "execution_count": 1150,
     "metadata": {},
     "output_type": "execute_result"
    }
   ],
   "source": [
    "movies.head()"
   ]
  },
  {
   "cell_type": "code",
   "execution_count": 1151,
   "id": "5042d8ab-f89e-4e03-9ae7-7d4d0d4cf292",
   "metadata": {},
   "outputs": [
    {
     "data": {
      "text/html": [
       "<div>\n",
       "<style scoped>\n",
       "    .dataframe tbody tr th:only-of-type {\n",
       "        vertical-align: middle;\n",
       "    }\n",
       "\n",
       "    .dataframe tbody tr th {\n",
       "        vertical-align: top;\n",
       "    }\n",
       "\n",
       "    .dataframe thead th {\n",
       "        text-align: right;\n",
       "    }\n",
       "</style>\n",
       "<table border=\"1\" class=\"dataframe\">\n",
       "  <thead>\n",
       "    <tr style=\"text-align: right;\">\n",
       "      <th></th>\n",
       "      <th>_id</th>\n",
       "      <th>title</th>\n",
       "      <th>tags</th>\n",
       "    </tr>\n",
       "  </thead>\n",
       "  <tbody>\n",
       "    <tr>\n",
       "      <th>0</th>\n",
       "      <td>67e016024ebb8c0dabc71b40</td>\n",
       "      <td>The Vigilante</td>\n",
       "      <td>[Returning, from, Afghanistan,, Jessica,, a, S...</td>\n",
       "    </tr>\n",
       "    <tr>\n",
       "      <th>1</th>\n",
       "      <td>67e016024ebb8c0dabc71b41</td>\n",
       "      <td>Snow White</td>\n",
       "      <td>[A, princess, joins, forces, with, seven, dwar...</td>\n",
       "    </tr>\n",
       "    <tr>\n",
       "      <th>2</th>\n",
       "      <td>67e016024ebb8c0dabc71b42</td>\n",
       "      <td>The Electric State</td>\n",
       "      <td>[An, orphaned, teen, hits, the, road, with, a,...</td>\n",
       "    </tr>\n",
       "    <tr>\n",
       "      <th>3</th>\n",
       "      <td>67e016024ebb8c0dabc71b43</td>\n",
       "      <td>O'Dessa</td>\n",
       "      <td>[A, farm, girl, is, on, an, epic, quest, to, r...</td>\n",
       "    </tr>\n",
       "    <tr>\n",
       "      <th>4</th>\n",
       "      <td>67e016024ebb8c0dabc71b44</td>\n",
       "      <td>Old Guy</td>\n",
       "      <td>[Stuck, at, a, dead, end, but, vying, for, the...</td>\n",
       "    </tr>\n",
       "  </tbody>\n",
       "</table>\n",
       "</div>"
      ],
      "text/plain": [
       "                        _id               title  \\\n",
       "0  67e016024ebb8c0dabc71b40       The Vigilante   \n",
       "1  67e016024ebb8c0dabc71b41          Snow White   \n",
       "2  67e016024ebb8c0dabc71b42  The Electric State   \n",
       "3  67e016024ebb8c0dabc71b43             O'Dessa   \n",
       "4  67e016024ebb8c0dabc71b44             Old Guy   \n",
       "\n",
       "                                                tags  \n",
       "0  [Returning, from, Afghanistan,, Jessica,, a, S...  \n",
       "1  [A, princess, joins, forces, with, seven, dwar...  \n",
       "2  [An, orphaned, teen, hits, the, road, with, a,...  \n",
       "3  [A, farm, girl, is, on, an, epic, quest, to, r...  \n",
       "4  [Stuck, at, a, dead, end, but, vying, for, the...  "
      ]
     },
     "execution_count": 1151,
     "metadata": {},
     "output_type": "execute_result"
    }
   ],
   "source": [
    "new_df = movies[['_id','title','tags']]\n",
    "new_df.head()"
   ]
  },
  {
   "cell_type": "code",
   "execution_count": null,
   "id": "ddcc49b0-0734-47e0-8d71-da6c8ed83f2f",
   "metadata": {},
   "outputs": [],
   "source": [
    "new_df['tags']=new_df['tags'].apply(lambda x:\" \".join(x))"
   ]
  },
  {
   "cell_type": "code",
   "execution_count": 1153,
   "id": "35635130-98ff-4e93-8268-a96dfeda6b32",
   "metadata": {},
   "outputs": [],
   "source": [
    "import nltk"
   ]
  },
  {
   "cell_type": "code",
   "execution_count": 1154,
   "id": "7f4b60d1-8503-4c56-a550-05af5c041327",
   "metadata": {},
   "outputs": [],
   "source": [
    "from nltk.stem.porter import PorterStemmer\n",
    "ps = PorterStemmer()"
   ]
  },
  {
   "cell_type": "code",
   "execution_count": 1155,
   "id": "3a715690-d710-4420-b733-4d5e56e8fa90",
   "metadata": {},
   "outputs": [],
   "source": [
    "def stem(text):\n",
    "    y=[]\n",
    "    for i in text.split():\n",
    "        y.append(ps.stem(i))\n",
    "    return \" \".join(y)"
   ]
  },
  {
   "cell_type": "code",
   "execution_count": 1156,
   "id": "8b2148b9-fe17-4877-bc31-4c53bf439810",
   "metadata": {},
   "outputs": [
    {
     "data": {
      "text/html": [
       "<div>\n",
       "<style scoped>\n",
       "    .dataframe tbody tr th:only-of-type {\n",
       "        vertical-align: middle;\n",
       "    }\n",
       "\n",
       "    .dataframe tbody tr th {\n",
       "        vertical-align: top;\n",
       "    }\n",
       "\n",
       "    .dataframe thead th {\n",
       "        text-align: right;\n",
       "    }\n",
       "</style>\n",
       "<table border=\"1\" class=\"dataframe\">\n",
       "  <thead>\n",
       "    <tr style=\"text-align: right;\">\n",
       "      <th></th>\n",
       "      <th>_id</th>\n",
       "      <th>title</th>\n",
       "      <th>tags</th>\n",
       "    </tr>\n",
       "  </thead>\n",
       "  <tbody>\n",
       "    <tr>\n",
       "      <th>0</th>\n",
       "      <td>67e016024ebb8c0dabc71b40</td>\n",
       "      <td>The Vigilante</td>\n",
       "      <td>Returning from Afghanistan, Jessica, a Spec OP...</td>\n",
       "    </tr>\n",
       "    <tr>\n",
       "      <th>1</th>\n",
       "      <td>67e016024ebb8c0dabc71b41</td>\n",
       "      <td>Snow White</td>\n",
       "      <td>A princess joins forces with seven dwarfs to l...</td>\n",
       "    </tr>\n",
       "    <tr>\n",
       "      <th>2</th>\n",
       "      <td>67e016024ebb8c0dabc71b42</td>\n",
       "      <td>The Electric State</td>\n",
       "      <td>An orphaned teen hits the road with a mysterio...</td>\n",
       "    </tr>\n",
       "    <tr>\n",
       "      <th>3</th>\n",
       "      <td>67e016024ebb8c0dabc71b43</td>\n",
       "      <td>O'Dessa</td>\n",
       "      <td>A farm girl is on an epic quest to recover a c...</td>\n",
       "    </tr>\n",
       "    <tr>\n",
       "      <th>4</th>\n",
       "      <td>67e016024ebb8c0dabc71b44</td>\n",
       "      <td>Old Guy</td>\n",
       "      <td>Stuck at a dead end but vying for the love of ...</td>\n",
       "    </tr>\n",
       "    <tr>\n",
       "      <th>...</th>\n",
       "      <td>...</td>\n",
       "      <td>...</td>\n",
       "      <td>...</td>\n",
       "    </tr>\n",
       "    <tr>\n",
       "      <th>7637</th>\n",
       "      <td>67e0164f4ebb8c0dabc73a54</td>\n",
       "      <td>Flight 7500</td>\n",
       "      <td>Flight 7500 departs Los Angeles International ...</td>\n",
       "    </tr>\n",
       "    <tr>\n",
       "      <th>7638</th>\n",
       "      <td>67e0164f4ebb8c0dabc73a52</td>\n",
       "      <td>The House of Pleasure</td>\n",
       "      <td>Lord Gregory Hutton takes his beautiful young ...</td>\n",
       "    </tr>\n",
       "    <tr>\n",
       "      <th>7639</th>\n",
       "      <td>67e0164f4ebb8c0dabc73a53</td>\n",
       "      <td>The Last Days of Pompeii</td>\n",
       "      <td>Glaucus, a demobilized centurion returns home ...</td>\n",
       "    </tr>\n",
       "    <tr>\n",
       "      <th>7640</th>\n",
       "      <td>67e0164f4ebb8c0dabc73a50</td>\n",
       "      <td>Destricted</td>\n",
       "      <td>A compilation of erotic films intended to illu...</td>\n",
       "    </tr>\n",
       "    <tr>\n",
       "      <th>7641</th>\n",
       "      <td>67e0164f4ebb8c0dabc73a56</td>\n",
       "      <td>The Raven</td>\n",
       "      <td>A fictionalized account of the last days of Ed...</td>\n",
       "    </tr>\n",
       "  </tbody>\n",
       "</table>\n",
       "<p>7642 rows × 3 columns</p>\n",
       "</div>"
      ],
      "text/plain": [
       "                           _id                     title  \\\n",
       "0     67e016024ebb8c0dabc71b40             The Vigilante   \n",
       "1     67e016024ebb8c0dabc71b41                Snow White   \n",
       "2     67e016024ebb8c0dabc71b42        The Electric State   \n",
       "3     67e016024ebb8c0dabc71b43                   O'Dessa   \n",
       "4     67e016024ebb8c0dabc71b44                   Old Guy   \n",
       "...                        ...                       ...   \n",
       "7637  67e0164f4ebb8c0dabc73a54               Flight 7500   \n",
       "7638  67e0164f4ebb8c0dabc73a52     The House of Pleasure   \n",
       "7639  67e0164f4ebb8c0dabc73a53  The Last Days of Pompeii   \n",
       "7640  67e0164f4ebb8c0dabc73a50                Destricted   \n",
       "7641  67e0164f4ebb8c0dabc73a56                 The Raven   \n",
       "\n",
       "                                                   tags  \n",
       "0     Returning from Afghanistan, Jessica, a Spec OP...  \n",
       "1     A princess joins forces with seven dwarfs to l...  \n",
       "2     An orphaned teen hits the road with a mysterio...  \n",
       "3     A farm girl is on an epic quest to recover a c...  \n",
       "4     Stuck at a dead end but vying for the love of ...  \n",
       "...                                                 ...  \n",
       "7637  Flight 7500 departs Los Angeles International ...  \n",
       "7638  Lord Gregory Hutton takes his beautiful young ...  \n",
       "7639  Glaucus, a demobilized centurion returns home ...  \n",
       "7640  A compilation of erotic films intended to illu...  \n",
       "7641  A fictionalized account of the last days of Ed...  \n",
       "\n",
       "[7642 rows x 3 columns]"
      ]
     },
     "execution_count": 1156,
     "metadata": {},
     "output_type": "execute_result"
    }
   ],
   "source": [
    "new_df"
   ]
  },
  {
   "cell_type": "code",
   "execution_count": null,
   "id": "e9761a93-0bc1-40d9-9f58-26c7f34f086a",
   "metadata": {},
   "outputs": [],
   "source": [
    "new_df['tags'] = new_df['tags'].apply(stem)"
   ]
  },
  {
   "cell_type": "code",
   "execution_count": 1159,
   "id": "d6ddb4b9-b2c0-41ff-a300-fe5a50c07efd",
   "metadata": {},
   "outputs": [
    {
     "data": {
      "text/plain": [
       "0    return from afghanistan, jessica, a spec op ma...\n",
       "Name: tags, dtype: object"
      ]
     },
     "execution_count": 1159,
     "metadata": {},
     "output_type": "execute_result"
    }
   ],
   "source": [
    "new_df['tags'].head(1)"
   ]
  },
  {
   "cell_type": "code",
   "execution_count": null,
   "id": "e6fbbfea-65e9-4c57-91a0-9c140f213529",
   "metadata": {},
   "outputs": [],
   "source": [
    "import unicodedata\n",
    "import re\n",
    "\n",
    "def clean_text(text):\n",
    "    text = unicodedata.normalize('NFKD', text).encode('ascii', 'ignore').decode('utf-8')\n",
    "    text = re.sub(r'[^a-zA-Z0-9\\s]', '', text.lower())\n",
    "    return text\n",
    "\n",
    "new_df['tags'] = new_df['tags'].apply(clean_text)\n",
    "new_df['tags'] = new_df['tags'].apply(lambda x: ' '.join([word for word in x.split() if word != 'title']))"
   ]
  },
  {
   "cell_type": "code",
   "execution_count": 1161,
   "id": "054f7e85-1b72-4558-9cf1-889572526214",
   "metadata": {},
   "outputs": [],
   "source": [
    "from sklearn.feature_extraction.text import CountVectorizer\n",
    "cv = CountVectorizer(max_features=10000,stop_words='english')"
   ]
  },
  {
   "cell_type": "code",
   "execution_count": 1162,
   "id": "661b3edd-19ed-4d36-b1ee-258d31539bb4",
   "metadata": {},
   "outputs": [],
   "source": [
    "vectors = cv.fit_transform(new_df['tags']).toarray()"
   ]
  },
  {
   "cell_type": "code",
   "execution_count": 1163,
   "id": "1b7a07b3-a338-499f-8fad-3f3a5919d649",
   "metadata": {},
   "outputs": [
    {
     "data": {
      "text/plain": [
       "array([[0, 0, 0, ..., 0, 0, 0],\n",
       "       [0, 0, 0, ..., 0, 0, 0],\n",
       "       [0, 0, 0, ..., 0, 0, 0],\n",
       "       ...,\n",
       "       [0, 0, 0, ..., 0, 0, 0],\n",
       "       [0, 0, 0, ..., 0, 0, 0],\n",
       "       [0, 0, 0, ..., 0, 0, 0]], dtype=int64)"
      ]
     },
     "execution_count": 1163,
     "metadata": {},
     "output_type": "execute_result"
    }
   ],
   "source": [
    "vectors"
   ]
  },
  {
   "cell_type": "code",
   "execution_count": 1164,
   "id": "e7b16954-4ea4-4d72-82af-247cbdaa1236",
   "metadata": {},
   "outputs": [
    {
     "name": "stdout",
     "output_type": "stream",
     "text": [
      "vectors.shape = (7642, 10000)\n",
      "len(features) = 10000\n"
     ]
    }
   ],
   "source": [
    "print(f\"vectors.shape = {vectors.shape}\")  # (7642, 10000) or fewer\n",
    "print(f\"len(features) = {len(features)}\")"
   ]
  },
  {
   "cell_type": "code",
   "execution_count": 1171,
   "id": "d5da4b08-568c-4d04-bb53-6d0beddab9a3",
   "metadata": {},
   "outputs": [
    {
     "data": {
      "text/plain": [
       "array([0, 0, 0, ..., 0, 0, 0], dtype=int64)"
      ]
     },
     "execution_count": 1171,
     "metadata": {},
     "output_type": "execute_result"
    }
   ],
   "source": [
    "vectors[0]"
   ]
  },
  {
   "cell_type": "code",
   "execution_count": 1176,
   "id": "0218b428-8bdb-4846-85eb-364ae959992f",
   "metadata": {},
   "outputs": [
    {
     "data": {
      "text/plain": [
       "array(['10', '100', '1000', ..., 'zora', 'zoro', 'zorro'], dtype=object)"
      ]
     },
     "execution_count": 1176,
     "metadata": {},
     "output_type": "execute_result"
    }
   ],
   "source": [
    "features =  cv.get_feature_names_out()\n",
    "features"
   ]
  },
  {
   "cell_type": "code",
   "execution_count": 1185,
   "id": "f6047216-c869-4c7b-8f01-9d99404df9e4",
   "metadata": {},
   "outputs": [],
   "source": [
    "X_df = pd.DataFrame(vectors, columns=features)\n",
    "new_df = new_df.reset_index(drop=True)\n",
    "X_df = X_df.reset_index(drop=True)\n",
    "final_df = pd.concat([new_df[['_id', 'title']], X_df], axis=1)"
   ]
  },
  {
   "cell_type": "code",
   "execution_count": 1255,
   "id": "3615bc09-65b8-4129-9d23-dafafa7d78b6",
   "metadata": {},
   "outputs": [],
   "source": [
    "with open('final_df_data.pkl','wb') as f:\n",
    "    pickle.dump(final_df,f)"
   ]
  },
  {
   "cell_type": "code",
   "execution_count": 1186,
   "id": "4df42037-0cca-499b-88bf-324e7e573a07",
   "metadata": {},
   "outputs": [],
   "source": [
    "load_dotenv()\n",
    "COLLECTION_NAME_2=os.getenv(\"COLLECTION_NAME_2\")"
   ]
  },
  {
   "cell_type": "code",
   "execution_count": 1187,
   "id": "9ef74953-ed6c-4e9b-9594-6026875ddac9",
   "metadata": {},
   "outputs": [],
   "source": [
    "client = MongoClient(MONGO_URI)\n",
    "db=client[DB_NAME]\n",
    "collection2 = db[COLLECTION_NAME_2]"
   ]
  },
  {
   "cell_type": "code",
   "execution_count": null,
   "id": "790c9b6a-9643-43e1-91ec-7fd0b0593139",
   "metadata": {},
   "outputs": [],
   "source": [
    "from bson import ObjectId\n",
    "user_id = ObjectId(\"\")\n",
    "user_cursor = collection2.find_one({\"_id\":user_id})\n",
    "user_cursor"
   ]
  },
  {
   "cell_type": "code",
   "execution_count": 1189,
   "id": "5baeb6fa-2526-4929-95e2-4b9031ea31b4",
   "metadata": {},
   "outputs": [],
   "source": [
    "def convert(user_doc):\n",
    "    flat_user = {\n",
    "        \"_id\": str(user_doc[\"_id\"]),\n",
    "        \"favorites\": [str(x) for x in user_doc.get(\"favorites\", [])],\n",
    "        \"likes\": [str(x) for x in user_doc.get(\"likes\", [])],\n",
    "    }\n",
    "    return pd.DataFrame([flat_user])\n",
    "        "
   ]
  },
  {
   "cell_type": "code",
   "execution_count": null,
   "id": "44b1bff9-3cfb-4699-959a-796b6a0ec738",
   "metadata": {},
   "outputs": [],
   "source": [
    "user = convert(user_cursor)\n",
    "user"
   ]
  },
  {
   "cell_type": "code",
   "execution_count": 1191,
   "id": "e84a3329-2bba-4233-9364-a6fae76ac461",
   "metadata": {},
   "outputs": [
    {
     "data": {
      "text/plain": [
       "0    [67e0160c4ebb8c0dabc71ee4]\n",
       "Name: favorites, dtype: object"
      ]
     },
     "execution_count": 1191,
     "metadata": {},
     "output_type": "execute_result"
    }
   ],
   "source": [
    "user['favorites']"
   ]
  },
  {
   "cell_type": "code",
   "execution_count": 1192,
   "id": "bc7843a7-23f0-4325-a3e0-850669fc72f2",
   "metadata": {},
   "outputs": [],
   "source": [
    "# fetch Favourites Movies\n",
    "def fetch(favorites_ids,old_movies):\n",
    "    titles=[]\n",
    "    for movie in old_movies:\n",
    "        if movie['_id'] in favorites_ids:\n",
    "             titles.append(movie['title'])\n",
    "    return titles"
   ]
  },
  {
   "cell_type": "code",
   "execution_count": 1205,
   "id": "a80366b2-65dc-4267-8477-d2838c766c21",
   "metadata": {},
   "outputs": [],
   "source": [
    "\n",
    "favorites_ids = [ObjectId(x) for x in user['favorites'].iloc[0]]\n",
    "liked_ids = [ObjectId(x) for x in user['likes'].iloc[0]]\n",
    "\n",
    "movies_cursor = collection.find({})\n",
    "old_movies = list(movies_cursor)\n",
    "Liked_Movies = fetch(liked_ids, old_movies)"
   ]
  },
  {
   "cell_type": "code",
   "execution_count": 1207,
   "id": "2aa314ba-517f-462c-bec6-647b6e258679",
   "metadata": {},
   "outputs": [
    {
     "data": {
      "text/plain": [
       "['(500) Days of Summer']"
      ]
     },
     "execution_count": 1207,
     "metadata": {},
     "output_type": "execute_result"
    }
   ],
   "source": [
    "Liked_Movies"
   ]
  },
  {
   "cell_type": "code",
   "execution_count": 1209,
   "id": "e5e98c38-66ab-4ac8-8ba2-cfafc94672ea",
   "metadata": {},
   "outputs": [],
   "source": [
    "def fetch_from_movie_vector(liked_ids, movie_vector_df):\n",
    "    return movie_vector_df[movie_vector_df['_id'].isin(liked_ids)]\n",
    "\n",
    "        "
   ]
  },
  {
   "cell_type": "code",
   "execution_count": 1211,
   "id": "688da400-e3ba-474a-a811-b9021fd7efef",
   "metadata": {
    "scrolled": true
   },
   "outputs": [],
   "source": [
    "liked_vector_list = fetch_from_movie_vector(liked_ids,final_df)"
   ]
  },
  {
   "cell_type": "code",
   "execution_count": 1213,
   "id": "84510135-9d99-4748-96e5-121653bdb58a",
   "metadata": {},
   "outputs": [
    {
     "data": {
      "text/html": [
       "<div>\n",
       "<style scoped>\n",
       "    .dataframe tbody tr th:only-of-type {\n",
       "        vertical-align: middle;\n",
       "    }\n",
       "\n",
       "    .dataframe tbody tr th {\n",
       "        vertical-align: top;\n",
       "    }\n",
       "\n",
       "    .dataframe thead th {\n",
       "        text-align: right;\n",
       "    }\n",
       "</style>\n",
       "<table border=\"1\" class=\"dataframe\">\n",
       "  <thead>\n",
       "    <tr style=\"text-align: right;\">\n",
       "      <th></th>\n",
       "      <th>_id</th>\n",
       "      <th>title</th>\n",
       "      <th>10</th>\n",
       "      <th>100</th>\n",
       "      <th>1000</th>\n",
       "      <th>10000</th>\n",
       "      <th>10year</th>\n",
       "      <th>10yearold</th>\n",
       "      <th>11</th>\n",
       "      <th>11yearold</th>\n",
       "      <th>...</th>\n",
       "      <th>zoekravitz</th>\n",
       "      <th>zoesaldana</th>\n",
       "      <th>zombi</th>\n",
       "      <th>zombies</th>\n",
       "      <th>zone</th>\n",
       "      <th>zoo</th>\n",
       "      <th>zooeydeschanel</th>\n",
       "      <th>zora</th>\n",
       "      <th>zoro</th>\n",
       "      <th>zorro</th>\n",
       "    </tr>\n",
       "  </thead>\n",
       "  <tbody>\n",
       "    <tr>\n",
       "      <th>714</th>\n",
       "      <td>67e0160a4ebb8c0dabc71e14</td>\n",
       "      <td>(500) Days of Summer</td>\n",
       "      <td>0</td>\n",
       "      <td>0</td>\n",
       "      <td>0</td>\n",
       "      <td>0</td>\n",
       "      <td>0</td>\n",
       "      <td>0</td>\n",
       "      <td>0</td>\n",
       "      <td>0</td>\n",
       "      <td>...</td>\n",
       "      <td>0</td>\n",
       "      <td>0</td>\n",
       "      <td>0</td>\n",
       "      <td>0</td>\n",
       "      <td>0</td>\n",
       "      <td>0</td>\n",
       "      <td>1</td>\n",
       "      <td>0</td>\n",
       "      <td>0</td>\n",
       "      <td>0</td>\n",
       "    </tr>\n",
       "  </tbody>\n",
       "</table>\n",
       "<p>1 rows × 10002 columns</p>\n",
       "</div>"
      ],
      "text/plain": [
       "                          _id                 title  10  100  1000  10000  \\\n",
       "714  67e0160a4ebb8c0dabc71e14  (500) Days of Summer   0    0     0      0   \n",
       "\n",
       "     10year  10yearold  11  11yearold  ...  zoekravitz  zoesaldana  zombi  \\\n",
       "714       0          0   0          0  ...           0           0      0   \n",
       "\n",
       "     zombies  zone  zoo  zooeydeschanel  zora  zoro  zorro  \n",
       "714        0     0    0               1     0     0      0  \n",
       "\n",
       "[1 rows x 10002 columns]"
      ]
     },
     "execution_count": 1213,
     "metadata": {},
     "output_type": "execute_result"
    }
   ],
   "source": [
    "liked_vector_list"
   ]
  },
  {
   "cell_type": "code",
   "execution_count": 1215,
   "id": "866b64f0-38a1-4587-a662-ade28d39acfd",
   "metadata": {},
   "outputs": [],
   "source": [
    "vector_for_mean = liked_vector_list[[col for col in liked_vector_list.columns if col not in ['_id','title']]]"
   ]
  },
  {
   "cell_type": "code",
   "execution_count": 1217,
   "id": "b79e3bfc-b313-4bf2-9465-fafc6004a080",
   "metadata": {},
   "outputs": [
    {
     "data": {
      "text/html": [
       "<div>\n",
       "<style scoped>\n",
       "    .dataframe tbody tr th:only-of-type {\n",
       "        vertical-align: middle;\n",
       "    }\n",
       "\n",
       "    .dataframe tbody tr th {\n",
       "        vertical-align: top;\n",
       "    }\n",
       "\n",
       "    .dataframe thead th {\n",
       "        text-align: right;\n",
       "    }\n",
       "</style>\n",
       "<table border=\"1\" class=\"dataframe\">\n",
       "  <thead>\n",
       "    <tr style=\"text-align: right;\">\n",
       "      <th></th>\n",
       "      <th>10</th>\n",
       "      <th>100</th>\n",
       "      <th>1000</th>\n",
       "      <th>10000</th>\n",
       "      <th>10year</th>\n",
       "      <th>10yearold</th>\n",
       "      <th>11</th>\n",
       "      <th>11yearold</th>\n",
       "      <th>12</th>\n",
       "      <th>1200</th>\n",
       "      <th>...</th>\n",
       "      <th>zoekravitz</th>\n",
       "      <th>zoesaldana</th>\n",
       "      <th>zombi</th>\n",
       "      <th>zombies</th>\n",
       "      <th>zone</th>\n",
       "      <th>zoo</th>\n",
       "      <th>zooeydeschanel</th>\n",
       "      <th>zora</th>\n",
       "      <th>zoro</th>\n",
       "      <th>zorro</th>\n",
       "    </tr>\n",
       "  </thead>\n",
       "  <tbody>\n",
       "    <tr>\n",
       "      <th>714</th>\n",
       "      <td>0</td>\n",
       "      <td>0</td>\n",
       "      <td>0</td>\n",
       "      <td>0</td>\n",
       "      <td>0</td>\n",
       "      <td>0</td>\n",
       "      <td>0</td>\n",
       "      <td>0</td>\n",
       "      <td>0</td>\n",
       "      <td>0</td>\n",
       "      <td>...</td>\n",
       "      <td>0</td>\n",
       "      <td>0</td>\n",
       "      <td>0</td>\n",
       "      <td>0</td>\n",
       "      <td>0</td>\n",
       "      <td>0</td>\n",
       "      <td>1</td>\n",
       "      <td>0</td>\n",
       "      <td>0</td>\n",
       "      <td>0</td>\n",
       "    </tr>\n",
       "  </tbody>\n",
       "</table>\n",
       "<p>1 rows × 10000 columns</p>\n",
       "</div>"
      ],
      "text/plain": [
       "     10  100  1000  10000  10year  10yearold  11  11yearold  12  1200  ...  \\\n",
       "714   0    0     0      0       0          0   0          0   0     0  ...   \n",
       "\n",
       "     zoekravitz  zoesaldana  zombi  zombies  zone  zoo  zooeydeschanel  zora  \\\n",
       "714           0           0      0        0     0    0               1     0   \n",
       "\n",
       "     zoro  zorro  \n",
       "714     0      0  \n",
       "\n",
       "[1 rows x 10000 columns]"
      ]
     },
     "execution_count": 1217,
     "metadata": {},
     "output_type": "execute_result"
    }
   ],
   "source": [
    "vector_for_mean"
   ]
  },
  {
   "cell_type": "code",
   "execution_count": 1221,
   "id": "0ace3789-6565-40eb-b46f-dc885e745cc1",
   "metadata": {},
   "outputs": [],
   "source": [
    "user_profile_vector = vector_for_mean.mean(axis=0).values.reshape(1, -1)"
   ]
  },
  {
   "cell_type": "code",
   "execution_count": 1223,
   "id": "c5e5c48e-8076-4ad4-b7d7-d12f7b538830",
   "metadata": {},
   "outputs": [
    {
     "data": {
      "text/plain": [
       "array([[0., 0., 0., ..., 0., 0., 0.]])"
      ]
     },
     "execution_count": 1223,
     "metadata": {},
     "output_type": "execute_result"
    }
   ],
   "source": [
    "user_profile_vector"
   ]
  },
  {
   "cell_type": "code",
   "execution_count": 1225,
   "id": "8341853c-364d-4359-add4-8955504f9a81",
   "metadata": {},
   "outputs": [],
   "source": [
    "Movie_vector_excluding_liked_ids = final_df[~final_df['_id'].isin(liked_ids)]"
   ]
  },
  {
   "cell_type": "code",
   "execution_count": 1227,
   "id": "357e51bc-4024-417f-bf6e-96735310dc5a",
   "metadata": {},
   "outputs": [],
   "source": [
    "Movie_vector_excluding_ids_Title = Movie_vector_excluding_liked_ids[[col for col in Movie_vector_excluding_liked_ids.columns if col not in ['_id','title']]]"
   ]
  },
  {
   "cell_type": "code",
   "execution_count": 1229,
   "id": "9199ace7-b22f-4199-98cf-54418c395528",
   "metadata": {},
   "outputs": [
    {
     "data": {
      "text/html": [
       "<div>\n",
       "<style scoped>\n",
       "    .dataframe tbody tr th:only-of-type {\n",
       "        vertical-align: middle;\n",
       "    }\n",
       "\n",
       "    .dataframe tbody tr th {\n",
       "        vertical-align: top;\n",
       "    }\n",
       "\n",
       "    .dataframe thead th {\n",
       "        text-align: right;\n",
       "    }\n",
       "</style>\n",
       "<table border=\"1\" class=\"dataframe\">\n",
       "  <thead>\n",
       "    <tr style=\"text-align: right;\">\n",
       "      <th></th>\n",
       "      <th>10</th>\n",
       "      <th>100</th>\n",
       "      <th>1000</th>\n",
       "      <th>10000</th>\n",
       "      <th>10year</th>\n",
       "      <th>10yearold</th>\n",
       "      <th>11</th>\n",
       "      <th>11yearold</th>\n",
       "      <th>12</th>\n",
       "      <th>1200</th>\n",
       "      <th>...</th>\n",
       "      <th>zoekravitz</th>\n",
       "      <th>zoesaldana</th>\n",
       "      <th>zombi</th>\n",
       "      <th>zombies</th>\n",
       "      <th>zone</th>\n",
       "      <th>zoo</th>\n",
       "      <th>zooeydeschanel</th>\n",
       "      <th>zora</th>\n",
       "      <th>zoro</th>\n",
       "      <th>zorro</th>\n",
       "    </tr>\n",
       "  </thead>\n",
       "  <tbody>\n",
       "    <tr>\n",
       "      <th>0</th>\n",
       "      <td>0</td>\n",
       "      <td>0</td>\n",
       "      <td>0</td>\n",
       "      <td>0</td>\n",
       "      <td>0</td>\n",
       "      <td>0</td>\n",
       "      <td>0</td>\n",
       "      <td>0</td>\n",
       "      <td>0</td>\n",
       "      <td>0</td>\n",
       "      <td>...</td>\n",
       "      <td>0</td>\n",
       "      <td>0</td>\n",
       "      <td>0</td>\n",
       "      <td>0</td>\n",
       "      <td>0</td>\n",
       "      <td>0</td>\n",
       "      <td>0</td>\n",
       "      <td>0</td>\n",
       "      <td>0</td>\n",
       "      <td>0</td>\n",
       "    </tr>\n",
       "    <tr>\n",
       "      <th>1</th>\n",
       "      <td>0</td>\n",
       "      <td>0</td>\n",
       "      <td>0</td>\n",
       "      <td>0</td>\n",
       "      <td>0</td>\n",
       "      <td>0</td>\n",
       "      <td>0</td>\n",
       "      <td>0</td>\n",
       "      <td>0</td>\n",
       "      <td>0</td>\n",
       "      <td>...</td>\n",
       "      <td>0</td>\n",
       "      <td>0</td>\n",
       "      <td>0</td>\n",
       "      <td>0</td>\n",
       "      <td>0</td>\n",
       "      <td>0</td>\n",
       "      <td>0</td>\n",
       "      <td>0</td>\n",
       "      <td>0</td>\n",
       "      <td>0</td>\n",
       "    </tr>\n",
       "    <tr>\n",
       "      <th>2</th>\n",
       "      <td>0</td>\n",
       "      <td>0</td>\n",
       "      <td>0</td>\n",
       "      <td>0</td>\n",
       "      <td>0</td>\n",
       "      <td>0</td>\n",
       "      <td>0</td>\n",
       "      <td>0</td>\n",
       "      <td>0</td>\n",
       "      <td>0</td>\n",
       "      <td>...</td>\n",
       "      <td>0</td>\n",
       "      <td>0</td>\n",
       "      <td>0</td>\n",
       "      <td>0</td>\n",
       "      <td>0</td>\n",
       "      <td>0</td>\n",
       "      <td>0</td>\n",
       "      <td>0</td>\n",
       "      <td>0</td>\n",
       "      <td>0</td>\n",
       "    </tr>\n",
       "    <tr>\n",
       "      <th>3</th>\n",
       "      <td>0</td>\n",
       "      <td>0</td>\n",
       "      <td>0</td>\n",
       "      <td>0</td>\n",
       "      <td>0</td>\n",
       "      <td>0</td>\n",
       "      <td>0</td>\n",
       "      <td>0</td>\n",
       "      <td>0</td>\n",
       "      <td>0</td>\n",
       "      <td>...</td>\n",
       "      <td>0</td>\n",
       "      <td>0</td>\n",
       "      <td>0</td>\n",
       "      <td>0</td>\n",
       "      <td>0</td>\n",
       "      <td>0</td>\n",
       "      <td>0</td>\n",
       "      <td>0</td>\n",
       "      <td>0</td>\n",
       "      <td>0</td>\n",
       "    </tr>\n",
       "    <tr>\n",
       "      <th>4</th>\n",
       "      <td>0</td>\n",
       "      <td>0</td>\n",
       "      <td>0</td>\n",
       "      <td>0</td>\n",
       "      <td>0</td>\n",
       "      <td>0</td>\n",
       "      <td>0</td>\n",
       "      <td>0</td>\n",
       "      <td>0</td>\n",
       "      <td>0</td>\n",
       "      <td>...</td>\n",
       "      <td>0</td>\n",
       "      <td>0</td>\n",
       "      <td>0</td>\n",
       "      <td>0</td>\n",
       "      <td>0</td>\n",
       "      <td>0</td>\n",
       "      <td>0</td>\n",
       "      <td>0</td>\n",
       "      <td>0</td>\n",
       "      <td>0</td>\n",
       "    </tr>\n",
       "    <tr>\n",
       "      <th>...</th>\n",
       "      <td>...</td>\n",
       "      <td>...</td>\n",
       "      <td>...</td>\n",
       "      <td>...</td>\n",
       "      <td>...</td>\n",
       "      <td>...</td>\n",
       "      <td>...</td>\n",
       "      <td>...</td>\n",
       "      <td>...</td>\n",
       "      <td>...</td>\n",
       "      <td>...</td>\n",
       "      <td>...</td>\n",
       "      <td>...</td>\n",
       "      <td>...</td>\n",
       "      <td>...</td>\n",
       "      <td>...</td>\n",
       "      <td>...</td>\n",
       "      <td>...</td>\n",
       "      <td>...</td>\n",
       "      <td>...</td>\n",
       "      <td>...</td>\n",
       "    </tr>\n",
       "    <tr>\n",
       "      <th>7637</th>\n",
       "      <td>0</td>\n",
       "      <td>0</td>\n",
       "      <td>0</td>\n",
       "      <td>0</td>\n",
       "      <td>0</td>\n",
       "      <td>0</td>\n",
       "      <td>0</td>\n",
       "      <td>0</td>\n",
       "      <td>0</td>\n",
       "      <td>0</td>\n",
       "      <td>...</td>\n",
       "      <td>0</td>\n",
       "      <td>0</td>\n",
       "      <td>0</td>\n",
       "      <td>0</td>\n",
       "      <td>0</td>\n",
       "      <td>0</td>\n",
       "      <td>0</td>\n",
       "      <td>0</td>\n",
       "      <td>0</td>\n",
       "      <td>0</td>\n",
       "    </tr>\n",
       "    <tr>\n",
       "      <th>7638</th>\n",
       "      <td>0</td>\n",
       "      <td>0</td>\n",
       "      <td>0</td>\n",
       "      <td>0</td>\n",
       "      <td>0</td>\n",
       "      <td>0</td>\n",
       "      <td>0</td>\n",
       "      <td>0</td>\n",
       "      <td>0</td>\n",
       "      <td>0</td>\n",
       "      <td>...</td>\n",
       "      <td>0</td>\n",
       "      <td>0</td>\n",
       "      <td>0</td>\n",
       "      <td>0</td>\n",
       "      <td>0</td>\n",
       "      <td>0</td>\n",
       "      <td>0</td>\n",
       "      <td>0</td>\n",
       "      <td>0</td>\n",
       "      <td>0</td>\n",
       "    </tr>\n",
       "    <tr>\n",
       "      <th>7639</th>\n",
       "      <td>0</td>\n",
       "      <td>0</td>\n",
       "      <td>0</td>\n",
       "      <td>0</td>\n",
       "      <td>0</td>\n",
       "      <td>0</td>\n",
       "      <td>0</td>\n",
       "      <td>0</td>\n",
       "      <td>0</td>\n",
       "      <td>0</td>\n",
       "      <td>...</td>\n",
       "      <td>0</td>\n",
       "      <td>0</td>\n",
       "      <td>0</td>\n",
       "      <td>0</td>\n",
       "      <td>0</td>\n",
       "      <td>0</td>\n",
       "      <td>0</td>\n",
       "      <td>0</td>\n",
       "      <td>0</td>\n",
       "      <td>0</td>\n",
       "    </tr>\n",
       "    <tr>\n",
       "      <th>7640</th>\n",
       "      <td>0</td>\n",
       "      <td>0</td>\n",
       "      <td>0</td>\n",
       "      <td>0</td>\n",
       "      <td>0</td>\n",
       "      <td>0</td>\n",
       "      <td>0</td>\n",
       "      <td>0</td>\n",
       "      <td>0</td>\n",
       "      <td>0</td>\n",
       "      <td>...</td>\n",
       "      <td>0</td>\n",
       "      <td>0</td>\n",
       "      <td>0</td>\n",
       "      <td>0</td>\n",
       "      <td>0</td>\n",
       "      <td>0</td>\n",
       "      <td>0</td>\n",
       "      <td>0</td>\n",
       "      <td>0</td>\n",
       "      <td>0</td>\n",
       "    </tr>\n",
       "    <tr>\n",
       "      <th>7641</th>\n",
       "      <td>0</td>\n",
       "      <td>0</td>\n",
       "      <td>0</td>\n",
       "      <td>0</td>\n",
       "      <td>0</td>\n",
       "      <td>0</td>\n",
       "      <td>0</td>\n",
       "      <td>0</td>\n",
       "      <td>0</td>\n",
       "      <td>0</td>\n",
       "      <td>...</td>\n",
       "      <td>0</td>\n",
       "      <td>0</td>\n",
       "      <td>0</td>\n",
       "      <td>0</td>\n",
       "      <td>0</td>\n",
       "      <td>0</td>\n",
       "      <td>0</td>\n",
       "      <td>0</td>\n",
       "      <td>0</td>\n",
       "      <td>0</td>\n",
       "    </tr>\n",
       "  </tbody>\n",
       "</table>\n",
       "<p>7641 rows × 10000 columns</p>\n",
       "</div>"
      ],
      "text/plain": [
       "      10  100  1000  10000  10year  10yearold  11  11yearold  12  1200  ...  \\\n",
       "0      0    0     0      0       0          0   0          0   0     0  ...   \n",
       "1      0    0     0      0       0          0   0          0   0     0  ...   \n",
       "2      0    0     0      0       0          0   0          0   0     0  ...   \n",
       "3      0    0     0      0       0          0   0          0   0     0  ...   \n",
       "4      0    0     0      0       0          0   0          0   0     0  ...   \n",
       "...   ..  ...   ...    ...     ...        ...  ..        ...  ..   ...  ...   \n",
       "7637   0    0     0      0       0          0   0          0   0     0  ...   \n",
       "7638   0    0     0      0       0          0   0          0   0     0  ...   \n",
       "7639   0    0     0      0       0          0   0          0   0     0  ...   \n",
       "7640   0    0     0      0       0          0   0          0   0     0  ...   \n",
       "7641   0    0     0      0       0          0   0          0   0     0  ...   \n",
       "\n",
       "      zoekravitz  zoesaldana  zombi  zombies  zone  zoo  zooeydeschanel  zora  \\\n",
       "0              0           0      0        0     0    0               0     0   \n",
       "1              0           0      0        0     0    0               0     0   \n",
       "2              0           0      0        0     0    0               0     0   \n",
       "3              0           0      0        0     0    0               0     0   \n",
       "4              0           0      0        0     0    0               0     0   \n",
       "...          ...         ...    ...      ...   ...  ...             ...   ...   \n",
       "7637           0           0      0        0     0    0               0     0   \n",
       "7638           0           0      0        0     0    0               0     0   \n",
       "7639           0           0      0        0     0    0               0     0   \n",
       "7640           0           0      0        0     0    0               0     0   \n",
       "7641           0           0      0        0     0    0               0     0   \n",
       "\n",
       "      zoro  zorro  \n",
       "0        0      0  \n",
       "1        0      0  \n",
       "2        0      0  \n",
       "3        0      0  \n",
       "4        0      0  \n",
       "...    ...    ...  \n",
       "7637     0      0  \n",
       "7638     0      0  \n",
       "7639     0      0  \n",
       "7640     0      0  \n",
       "7641     0      0  \n",
       "\n",
       "[7641 rows x 10000 columns]"
      ]
     },
     "execution_count": 1229,
     "metadata": {},
     "output_type": "execute_result"
    }
   ],
   "source": [
    "Movie_vector_excluding_ids_Title"
   ]
  },
  {
   "cell_type": "code",
   "execution_count": 1231,
   "id": "5c0d01b9-7507-4a64-846f-1befe4dbeb19",
   "metadata": {},
   "outputs": [],
   "source": [
    "from sklearn.metrics.pairwise import cosine_similarity"
   ]
  },
  {
   "cell_type": "code",
   "execution_count": 1233,
   "id": "fe984c31-133d-42e4-b6e7-c3f0bac35124",
   "metadata": {},
   "outputs": [],
   "source": [
    "similarity = cosine_similarity(user_profile_vector,Movie_vector_excluding_ids_Title )"
   ]
  },
  {
   "cell_type": "code",
   "execution_count": 1234,
   "id": "eb2583b2-8949-477f-a4b6-280847115026",
   "metadata": {},
   "outputs": [
    {
     "data": {
      "text/plain": [
       "[(5678, 0.3388154635894692),\n",
       " (1723, 0.3300891361017462),\n",
       " (3695, 0.3243374865704012),\n",
       " (5242, 0.3243374865704012),\n",
       " (5849, 0.3212698020578431)]"
      ]
     },
     "execution_count": 1234,
     "metadata": {},
     "output_type": "execute_result"
    }
   ],
   "source": [
    "sorted(list(enumerate(similarity[0])),reverse=True,key=lambda x:x[1])[1:6]"
   ]
  },
  {
   "cell_type": "code",
   "execution_count": 1241,
   "id": "772f8a9a-5510-4551-9af4-e7a1d691c3a3",
   "metadata": {},
   "outputs": [],
   "source": [
    "def recommendMovie(movieId):\n",
    "    L=[]\n",
    "    if isinstance(movieId, str): \n",
    "        movieId = [movieId]\n",
    "    old_movies_df = pd.DataFrame(old_movies)\n",
    "    filtered_movies = old_movies_df[~old_movies_df['_id'].isin(movieId)]\n",
    "    movie_list = sorted(list(enumerate(similarity[0])),reverse=True,key=lambda x:x[1])[1:6]\n",
    "    topindices=[i[0] for i in movie_list]\n",
    "    for i in topindices:\n",
    "        row = filtered_movies.iloc[i]\n",
    "        L.append({'_id':str(row['_id']),'title': row['title'], 'genres': row['genres'],'poster':row['poster']})\n",
    "    return L"
   ]
  },
  {
   "cell_type": "code",
   "execution_count": 1243,
   "id": "b4ffaab2-c20c-405e-9193-59a469b142b5",
   "metadata": {},
   "outputs": [
    {
     "data": {
      "text/plain": [
       "[{'_id': '67e0163c4ebb8c0dabc73243',\n",
       "  'title': 'Sorry If I Call You Love',\n",
       "  'genres': ['Romance', 'Drama'],\n",
       "  'poster': 'https://image.tmdb.org/t/p/w500/ekvI7HVl0RcA4iaZOqNa8vqFwAN.jpg'},\n",
       " {'_id': '67e016144ebb8c0dabc72229',\n",
       "  'title': 'The Boy in the Plastic Bubble',\n",
       "  'genres': ['TV Movie', 'Drama'],\n",
       "  'poster': 'https://image.tmdb.org/t/p/w500/qZHhtOaXj3GhmivPhsmCnLkitpY.jpg'},\n",
       " {'_id': '67e016294ebb8c0dabc72a16',\n",
       "  'title': 'Sub Rosa',\n",
       "  'genres': ['Drama', 'Romance'],\n",
       "  'poster': 'https://image.tmdb.org/t/p/w500/yVwt1gPaQxCUV8iC8i1rca6FSji.jpg'},\n",
       " {'_id': '67e016384ebb8c0dabc73076',\n",
       "  'title': 'High Fidelity',\n",
       "  'genres': ['Drama', 'Comedy', 'Romance', 'Music'],\n",
       "  'poster': 'https://image.tmdb.org/t/p/w500/e2LZGB62GMhv3Fo8tDZjY87I81a.jpg'},\n",
       " {'_id': '67e0163e4ebb8c0dabc732f2',\n",
       "  'title': 'Sound of Metal',\n",
       "  'genres': ['Drama', 'Music'],\n",
       "  'poster': 'https://image.tmdb.org/t/p/w500/3178oOJKKPDeQ2legWQvMPpllv.jpg'}]"
      ]
     },
     "execution_count": 1243,
     "metadata": {},
     "output_type": "execute_result"
    }
   ],
   "source": [
    "recommendMovie(liked_ids)"
   ]
  },
  {
   "cell_type": "code",
   "execution_count": null,
   "id": "afd4db0b-5b15-4614-a36c-1097ac43c212",
   "metadata": {},
   "outputs": [],
   "source": [
    "#completed"
   ]
  },
  {
   "cell_type": "code",
   "execution_count": null,
   "id": "408ced75-7e2a-4bbc-9554-d46992047fe6",
   "metadata": {},
   "outputs": [],
   "source": []
  }
 ],
 "metadata": {
  "kernelspec": {
   "display_name": "Python [conda env:base] *",
   "language": "python",
   "name": "conda-base-py"
  },
  "language_info": {
   "codemirror_mode": {
    "name": "ipython",
    "version": 3
   },
   "file_extension": ".py",
   "mimetype": "text/x-python",
   "name": "python",
   "nbconvert_exporter": "python",
   "pygments_lexer": "ipython3",
   "version": "3.12.7"
  }
 },
 "nbformat": 4,
 "nbformat_minor": 5
}
