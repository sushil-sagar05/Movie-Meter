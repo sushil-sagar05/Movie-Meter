{
 "cells": [
  {
   "cell_type": "code",
   "execution_count": 1,
   "id": "b036c399-c86a-4213-8239-fdc2787510fb",
   "metadata": {},
   "outputs": [],
   "source": [
    "from dotenv import load_dotenv\n",
    "import os\n",
    "from pymongo import MongoClient\n",
    "import numpy as np\n",
    "import pandas as pd"
   ]
  },
  {
   "cell_type": "code",
   "execution_count": 2,
   "id": "1d7f5bd0-7155-41ff-9f7b-a2134a816a59",
   "metadata": {},
   "outputs": [],
   "source": [
    "load_dotenv()\n",
    "MONGO_URI=os.getenv(\"MONGO_URI\")\n",
    "DB_NAME=os.getenv(\"DB_NAME\")\n",
    "COLLECTION_NAME=os.getenv(\"COLLECTION_NAME\")"
   ]
  },
  {
   "cell_type": "code",
   "execution_count": 3,
   "id": "c28ae979-fa82-4ceb-812e-01b0000ec4d4",
   "metadata": {},
   "outputs": [],
   "source": [
    "client = MongoClient(MONGO_URI)\n",
    "db=client[DB_NAME]\n",
    "collection = db[COLLECTION_NAME]"
   ]
  },
  {
   "cell_type": "code",
   "execution_count": 4,
   "id": "5dfd2c3e-8a08-46b8-98f8-d09175bea4b5",
   "metadata": {},
   "outputs": [],
   "source": [
    "movies_cursor=collection.find({})\n",
    "old_movies = pd.DataFrame(list(movies_cursor))"
   ]
  },
  {
   "cell_type": "code",
   "execution_count": 5,
   "id": "179b5590-f503-45a7-9d2e-d0811f02d687",
   "metadata": {},
   "outputs": [
    {
     "data": {
      "text/html": [
       "<div>\n",
       "<style scoped>\n",
       "    .dataframe tbody tr th:only-of-type {\n",
       "        vertical-align: middle;\n",
       "    }\n",
       "\n",
       "    .dataframe tbody tr th {\n",
       "        vertical-align: top;\n",
       "    }\n",
       "\n",
       "    .dataframe thead th {\n",
       "        text-align: right;\n",
       "    }\n",
       "</style>\n",
       "<table border=\"1\" class=\"dataframe\">\n",
       "  <thead>\n",
       "    <tr style=\"text-align: right;\">\n",
       "      <th></th>\n",
       "      <th>_id</th>\n",
       "      <th>tmdbId</th>\n",
       "      <th>__v</th>\n",
       "      <th>cast</th>\n",
       "      <th>director</th>\n",
       "      <th>genres</th>\n",
       "      <th>plot</th>\n",
       "      <th>poster</th>\n",
       "      <th>reviews</th>\n",
       "      <th>title</th>\n",
       "      <th>year</th>\n",
       "      <th>Avgrating</th>\n",
       "    </tr>\n",
       "  </thead>\n",
       "  <tbody>\n",
       "    <tr>\n",
       "      <th>0</th>\n",
       "      <td>67e016024ebb8c0dabc71b40</td>\n",
       "      <td>1151470</td>\n",
       "      <td>0</td>\n",
       "      <td>[Jet Jandreau, Alison Jaye Horowitz, Ana Alexa...</td>\n",
       "      <td>Lee Whittaker</td>\n",
       "      <td>[Thriller, Action]</td>\n",
       "      <td>Returning from Afghanistan, Jessica, a Spec OP...</td>\n",
       "      <td>https://image.tmdb.org/t/p/w500/pWuGTUPJfxqJff...</td>\n",
       "      <td>[]</td>\n",
       "      <td>The Vigilante</td>\n",
       "      <td>2023</td>\n",
       "      <td>0</td>\n",
       "    </tr>\n",
       "  </tbody>\n",
       "</table>\n",
       "</div>"
      ],
      "text/plain": [
       "                        _id   tmdbId  __v  \\\n",
       "0  67e016024ebb8c0dabc71b40  1151470    0   \n",
       "\n",
       "                                                cast       director  \\\n",
       "0  [Jet Jandreau, Alison Jaye Horowitz, Ana Alexa...  Lee Whittaker   \n",
       "\n",
       "               genres                                               plot  \\\n",
       "0  [Thriller, Action]  Returning from Afghanistan, Jessica, a Spec OP...   \n",
       "\n",
       "                                              poster reviews          title  \\\n",
       "0  https://image.tmdb.org/t/p/w500/pWuGTUPJfxqJff...      []  The Vigilante   \n",
       "\n",
       "   year  Avgrating  \n",
       "0  2023          0  "
      ]
     },
     "execution_count": 5,
     "metadata": {},
     "output_type": "execute_result"
    }
   ],
   "source": [
    "old_movies.head(1)"
   ]
  },
  {
   "cell_type": "code",
   "execution_count": 6,
   "id": "78626407-f5b9-4341-8b2e-58cdfe0f3ffc",
   "metadata": {},
   "outputs": [],
   "source": [
    "import pickle"
   ]
  },
  {
   "cell_type": "code",
   "execution_count": 7,
   "id": "4c91f394-b5dd-4ae8-8a0a-90d3dfe4ef24",
   "metadata": {},
   "outputs": [],
   "source": [
    "with open('movies_data.pkl','wb') as f:\n",
    "    pickle.dump(old_movies,f)"
   ]
  },
  {
   "cell_type": "code",
   "execution_count": 6,
   "id": "f80a6f48-e690-4697-8fac-a2faab259d96",
   "metadata": {},
   "outputs": [
    {
     "data": {
      "text/html": [
       "<div>\n",
       "<style scoped>\n",
       "    .dataframe tbody tr th:only-of-type {\n",
       "        vertical-align: middle;\n",
       "    }\n",
       "\n",
       "    .dataframe tbody tr th {\n",
       "        vertical-align: top;\n",
       "    }\n",
       "\n",
       "    .dataframe thead th {\n",
       "        text-align: right;\n",
       "    }\n",
       "</style>\n",
       "<table border=\"1\" class=\"dataframe\">\n",
       "  <thead>\n",
       "    <tr style=\"text-align: right;\">\n",
       "      <th></th>\n",
       "      <th>_id</th>\n",
       "      <th>cast</th>\n",
       "      <th>director</th>\n",
       "      <th>genres</th>\n",
       "      <th>plot</th>\n",
       "      <th>title</th>\n",
       "    </tr>\n",
       "  </thead>\n",
       "  <tbody>\n",
       "    <tr>\n",
       "      <th>0</th>\n",
       "      <td>67e016024ebb8c0dabc71b40</td>\n",
       "      <td>[Jet Jandreau, Alison Jaye Horowitz, Ana Alexa...</td>\n",
       "      <td>Lee Whittaker</td>\n",
       "      <td>[Thriller, Action]</td>\n",
       "      <td>Returning from Afghanistan, Jessica, a Spec OP...</td>\n",
       "      <td>The Vigilante</td>\n",
       "    </tr>\n",
       "  </tbody>\n",
       "</table>\n",
       "</div>"
      ],
      "text/plain": [
       "                        _id  \\\n",
       "0  67e016024ebb8c0dabc71b40   \n",
       "\n",
       "                                                cast       director  \\\n",
       "0  [Jet Jandreau, Alison Jaye Horowitz, Ana Alexa...  Lee Whittaker   \n",
       "\n",
       "               genres                                               plot  \\\n",
       "0  [Thriller, Action]  Returning from Afghanistan, Jessica, a Spec OP...   \n",
       "\n",
       "           title  \n",
       "0  The Vigilante  "
      ]
     },
     "execution_count": 6,
     "metadata": {},
     "output_type": "execute_result"
    }
   ],
   "source": [
    "movies = old_movies[['_id','cast','director','genres','plot','title']]\n",
    "movies.head(1)"
   ]
  },
  {
   "cell_type": "code",
   "execution_count": 9,
   "id": "b06e83df-f87c-4c37-baf9-67ce81283dfe",
   "metadata": {},
   "outputs": [
    {
     "data": {
      "text/plain": [
       "_id         0\n",
       "cast        0\n",
       "director    0\n",
       "genres      0\n",
       "plot        0\n",
       "title       0\n",
       "dtype: int64"
      ]
     },
     "execution_count": 9,
     "metadata": {},
     "output_type": "execute_result"
    }
   ],
   "source": [
    "movies.isnull().sum()"
   ]
  },
  {
   "cell_type": "code",
   "execution_count": 10,
   "id": "41ec98d3-45cb-4a26-95b2-f5e24957dca7",
   "metadata": {},
   "outputs": [
    {
     "data": {
      "text/plain": [
       "['Jet Jandreau',\n",
       " 'Alison Jaye Horowitz',\n",
       " 'Ana Alexander',\n",
       " 'Eric Pierce',\n",
       " 'Jamie Timmons']"
      ]
     },
     "execution_count": 10,
     "metadata": {},
     "output_type": "execute_result"
    }
   ],
   "source": [
    "movies['cast'][0]"
   ]
  },
  {
   "cell_type": "code",
   "execution_count": 7,
   "id": "0fec4548-97c0-4c82-a17a-6b68bc9570a1",
   "metadata": {},
   "outputs": [
    {
     "name": "stderr",
     "output_type": "stream",
     "text": [
      "C:\\Users\\sagar\\AppData\\Local\\Temp\\ipykernel_41592\\2236594865.py:1: SettingWithCopyWarning: \n",
      "A value is trying to be set on a copy of a slice from a DataFrame.\n",
      "Try using .loc[row_indexer,col_indexer] = value instead\n",
      "\n",
      "See the caveats in the documentation: https://pandas.pydata.org/pandas-docs/stable/user_guide/indexing.html#returning-a-view-versus-a-copy\n",
      "  movies['cast']=movies['cast'].apply(lambda x:x[:3])\n",
      "C:\\Users\\sagar\\AppData\\Local\\Temp\\ipykernel_41592\\2236594865.py:2: SettingWithCopyWarning: \n",
      "A value is trying to be set on a copy of a slice from a DataFrame.\n",
      "Try using .loc[row_indexer,col_indexer] = value instead\n",
      "\n",
      "See the caveats in the documentation: https://pandas.pydata.org/pandas-docs/stable/user_guide/indexing.html#returning-a-view-versus-a-copy\n",
      "  movies['genres']=movies['genres'].apply(lambda x:x[:2])\n"
     ]
    },
    {
     "data": {
      "text/html": [
       "<div>\n",
       "<style scoped>\n",
       "    .dataframe tbody tr th:only-of-type {\n",
       "        vertical-align: middle;\n",
       "    }\n",
       "\n",
       "    .dataframe tbody tr th {\n",
       "        vertical-align: top;\n",
       "    }\n",
       "\n",
       "    .dataframe thead th {\n",
       "        text-align: right;\n",
       "    }\n",
       "</style>\n",
       "<table border=\"1\" class=\"dataframe\">\n",
       "  <thead>\n",
       "    <tr style=\"text-align: right;\">\n",
       "      <th></th>\n",
       "      <th>_id</th>\n",
       "      <th>cast</th>\n",
       "      <th>director</th>\n",
       "      <th>genres</th>\n",
       "      <th>plot</th>\n",
       "      <th>title</th>\n",
       "    </tr>\n",
       "  </thead>\n",
       "  <tbody>\n",
       "    <tr>\n",
       "      <th>0</th>\n",
       "      <td>67e016024ebb8c0dabc71b40</td>\n",
       "      <td>[Jet Jandreau, Alison Jaye Horowitz, Ana Alexa...</td>\n",
       "      <td>Lee Whittaker</td>\n",
       "      <td>[Thriller, Action]</td>\n",
       "      <td>Returning from Afghanistan, Jessica, a Spec OP...</td>\n",
       "      <td>The Vigilante</td>\n",
       "    </tr>\n",
       "  </tbody>\n",
       "</table>\n",
       "</div>"
      ],
      "text/plain": [
       "                        _id  \\\n",
       "0  67e016024ebb8c0dabc71b40   \n",
       "\n",
       "                                                cast       director  \\\n",
       "0  [Jet Jandreau, Alison Jaye Horowitz, Ana Alexa...  Lee Whittaker   \n",
       "\n",
       "               genres                                               plot  \\\n",
       "0  [Thriller, Action]  Returning from Afghanistan, Jessica, a Spec OP...   \n",
       "\n",
       "           title  \n",
       "0  The Vigilante  "
      ]
     },
     "execution_count": 7,
     "metadata": {},
     "output_type": "execute_result"
    }
   ],
   "source": [
    "movies['cast']=movies['cast'].apply(lambda x:x[:3])\n",
    "movies['genres']=movies['genres'].apply(lambda x:x[:2])\n",
    "movies.head(1)"
   ]
  },
  {
   "cell_type": "code",
   "execution_count": 8,
   "id": "ffc2f28e-e3f6-4ec5-bc1d-1cf01038fb98",
   "metadata": {},
   "outputs": [
    {
     "name": "stderr",
     "output_type": "stream",
     "text": [
      "C:\\Users\\sagar\\AppData\\Local\\Temp\\ipykernel_41592\\4266478534.py:2: SettingWithCopyWarning: \n",
      "A value is trying to be set on a copy of a slice from a DataFrame.\n",
      "Try using .loc[row_indexer,col_indexer] = value instead\n",
      "\n",
      "See the caveats in the documentation: https://pandas.pydata.org/pandas-docs/stable/user_guide/indexing.html#returning-a-view-versus-a-copy\n",
      "  movies['director'] = movies['director'].apply(lambda x: [x])\n",
      "C:\\Users\\sagar\\AppData\\Local\\Temp\\ipykernel_41592\\4266478534.py:3: SettingWithCopyWarning: \n",
      "A value is trying to be set on a copy of a slice from a DataFrame.\n",
      "Try using .loc[row_indexer,col_indexer] = value instead\n",
      "\n",
      "See the caveats in the documentation: https://pandas.pydata.org/pandas-docs/stable/user_guide/indexing.html#returning-a-view-versus-a-copy\n",
      "  movies['plot']=movies['plot'].apply(lambda x:x.split())\n"
     ]
    }
   ],
   "source": [
    "#list conversion \n",
    "movies['director'] = movies['director'].apply(lambda x: [x])\n",
    "movies['plot']=movies['plot'].apply(lambda x:x.split())"
   ]
  },
  {
   "cell_type": "code",
   "execution_count": 13,
   "id": "adbfd652-74ec-45e6-9af2-6f41b7ba5d79",
   "metadata": {},
   "outputs": [
    {
     "data": {
      "text/html": [
       "<div>\n",
       "<style scoped>\n",
       "    .dataframe tbody tr th:only-of-type {\n",
       "        vertical-align: middle;\n",
       "    }\n",
       "\n",
       "    .dataframe tbody tr th {\n",
       "        vertical-align: top;\n",
       "    }\n",
       "\n",
       "    .dataframe thead th {\n",
       "        text-align: right;\n",
       "    }\n",
       "</style>\n",
       "<table border=\"1\" class=\"dataframe\">\n",
       "  <thead>\n",
       "    <tr style=\"text-align: right;\">\n",
       "      <th></th>\n",
       "      <th>_id</th>\n",
       "      <th>cast</th>\n",
       "      <th>director</th>\n",
       "      <th>genres</th>\n",
       "      <th>plot</th>\n",
       "      <th>title</th>\n",
       "    </tr>\n",
       "  </thead>\n",
       "  <tbody>\n",
       "    <tr>\n",
       "      <th>0</th>\n",
       "      <td>67e016024ebb8c0dabc71b40</td>\n",
       "      <td>[Jet Jandreau, Alison Jaye Horowitz, Ana Alexa...</td>\n",
       "      <td>[Lee Whittaker]</td>\n",
       "      <td>[Thriller, Action]</td>\n",
       "      <td>[Returning, from, Afghanistan,, Jessica,, a, S...</td>\n",
       "      <td>The Vigilante</td>\n",
       "    </tr>\n",
       "  </tbody>\n",
       "</table>\n",
       "</div>"
      ],
      "text/plain": [
       "                        _id  \\\n",
       "0  67e016024ebb8c0dabc71b40   \n",
       "\n",
       "                                                cast         director  \\\n",
       "0  [Jet Jandreau, Alison Jaye Horowitz, Ana Alexa...  [Lee Whittaker]   \n",
       "\n",
       "               genres                                               plot  \\\n",
       "0  [Thriller, Action]  [Returning, from, Afghanistan,, Jessica,, a, S...   \n",
       "\n",
       "           title  \n",
       "0  The Vigilante  "
      ]
     },
     "execution_count": 13,
     "metadata": {},
     "output_type": "execute_result"
    }
   ],
   "source": [
    "movies.head(1)"
   ]
  },
  {
   "cell_type": "code",
   "execution_count": 9,
   "id": "b8836473-0f55-443e-8826-336099012df5",
   "metadata": {},
   "outputs": [
    {
     "name": "stderr",
     "output_type": "stream",
     "text": [
      "C:\\Users\\sagar\\AppData\\Local\\Temp\\ipykernel_41592\\2865934519.py:1: SettingWithCopyWarning: \n",
      "A value is trying to be set on a copy of a slice from a DataFrame.\n",
      "Try using .loc[row_indexer,col_indexer] = value instead\n",
      "\n",
      "See the caveats in the documentation: https://pandas.pydata.org/pandas-docs/stable/user_guide/indexing.html#returning-a-view-versus-a-copy\n",
      "  movies['cast']=movies['cast'].apply(lambda x:[i.replace(\" \",\"\") for i in x])\n",
      "C:\\Users\\sagar\\AppData\\Local\\Temp\\ipykernel_41592\\2865934519.py:2: SettingWithCopyWarning: \n",
      "A value is trying to be set on a copy of a slice from a DataFrame.\n",
      "Try using .loc[row_indexer,col_indexer] = value instead\n",
      "\n",
      "See the caveats in the documentation: https://pandas.pydata.org/pandas-docs/stable/user_guide/indexing.html#returning-a-view-versus-a-copy\n",
      "  movies['director'] = movies['director'].apply(lambda x:[i.replace(\" \",\"\") for i in x])\n"
     ]
    }
   ],
   "source": [
    "movies['cast']=movies['cast'].apply(lambda x:[i.replace(\" \",\"\") for i in x])\n",
    "movies['director'] = movies['director'].apply(lambda x:[i.replace(\" \",\"\") for i in x])"
   ]
  },
  {
   "cell_type": "code",
   "execution_count": 100,
   "id": "da310307-7925-4ec2-85a9-90d7ca15e0d5",
   "metadata": {},
   "outputs": [
    {
     "data": {
      "text/html": [
       "<div>\n",
       "<style scoped>\n",
       "    .dataframe tbody tr th:only-of-type {\n",
       "        vertical-align: middle;\n",
       "    }\n",
       "\n",
       "    .dataframe tbody tr th {\n",
       "        vertical-align: top;\n",
       "    }\n",
       "\n",
       "    .dataframe thead th {\n",
       "        text-align: right;\n",
       "    }\n",
       "</style>\n",
       "<table border=\"1\" class=\"dataframe\">\n",
       "  <thead>\n",
       "    <tr style=\"text-align: right;\">\n",
       "      <th></th>\n",
       "      <th>_id</th>\n",
       "      <th>cast</th>\n",
       "      <th>director</th>\n",
       "      <th>genres</th>\n",
       "      <th>plot</th>\n",
       "      <th>title</th>\n",
       "      <th>tags</th>\n",
       "    </tr>\n",
       "  </thead>\n",
       "  <tbody>\n",
       "    <tr>\n",
       "      <th>0</th>\n",
       "      <td>67e016024ebb8c0dabc71b40</td>\n",
       "      <td>[JetJandreau, AlisonJayeHorowitz, AnaAlexander]</td>\n",
       "      <td>[LeeWhittaker]</td>\n",
       "      <td>[Thriller, Action]</td>\n",
       "      <td>[Returning, from, Afghanistan,, Jessica,, a, S...</td>\n",
       "      <td>The Vigilante</td>\n",
       "      <td>[Returning, from, Afghanistan,, Jessica,, a, S...</td>\n",
       "    </tr>\n",
       "    <tr>\n",
       "      <th>1</th>\n",
       "      <td>67e016024ebb8c0dabc71b41</td>\n",
       "      <td>[RachelZegler, GalGadot, AndrewBurnap]</td>\n",
       "      <td>[MarcWebb]</td>\n",
       "      <td>[Family, Fantasy]</td>\n",
       "      <td>[A, princess, joins, forces, with, seven, dwar...</td>\n",
       "      <td>Snow White</td>\n",
       "      <td>[A, princess, joins, forces, with, seven, dwar...</td>\n",
       "    </tr>\n",
       "    <tr>\n",
       "      <th>2</th>\n",
       "      <td>67e016024ebb8c0dabc71b42</td>\n",
       "      <td>[MillieBobbyBrown, ChrisPratt, KeHuyQuan]</td>\n",
       "      <td>[JoeRusso]</td>\n",
       "      <td>[Science Fiction, Adventure]</td>\n",
       "      <td>[An, orphaned, teen, hits, the, road, with, a,...</td>\n",
       "      <td>The Electric State</td>\n",
       "      <td>[An, orphaned, teen, hits, the, road, with, a,...</td>\n",
       "    </tr>\n",
       "    <tr>\n",
       "      <th>3</th>\n",
       "      <td>67e016024ebb8c0dabc71b43</td>\n",
       "      <td>[SadieSink, KelvinHarrison,Jr., MurrayBartlett]</td>\n",
       "      <td>[GeremyJasper]</td>\n",
       "      <td>[Music, Drama]</td>\n",
       "      <td>[A, farm, girl, is, on, an, epic, quest, to, r...</td>\n",
       "      <td>O'Dessa</td>\n",
       "      <td>[A, farm, girl, is, on, an, epic, quest, to, r...</td>\n",
       "    </tr>\n",
       "    <tr>\n",
       "      <th>4</th>\n",
       "      <td>67e016024ebb8c0dabc71b44</td>\n",
       "      <td>[ChristophWaltz, LucyLiu, CooperHoffman]</td>\n",
       "      <td>[SimonWest]</td>\n",
       "      <td>[Action, Comedy]</td>\n",
       "      <td>[Stuck, at, a, dead, end, but, vying, for, the...</td>\n",
       "      <td>Old Guy</td>\n",
       "      <td>[Stuck, at, a, dead, end, but, vying, for, the...</td>\n",
       "    </tr>\n",
       "  </tbody>\n",
       "</table>\n",
       "</div>"
      ],
      "text/plain": [
       "                        _id                                             cast  \\\n",
       "0  67e016024ebb8c0dabc71b40  [JetJandreau, AlisonJayeHorowitz, AnaAlexander]   \n",
       "1  67e016024ebb8c0dabc71b41           [RachelZegler, GalGadot, AndrewBurnap]   \n",
       "2  67e016024ebb8c0dabc71b42        [MillieBobbyBrown, ChrisPratt, KeHuyQuan]   \n",
       "3  67e016024ebb8c0dabc71b43  [SadieSink, KelvinHarrison,Jr., MurrayBartlett]   \n",
       "4  67e016024ebb8c0dabc71b44         [ChristophWaltz, LucyLiu, CooperHoffman]   \n",
       "\n",
       "         director                        genres  \\\n",
       "0  [LeeWhittaker]            [Thriller, Action]   \n",
       "1      [MarcWebb]             [Family, Fantasy]   \n",
       "2      [JoeRusso]  [Science Fiction, Adventure]   \n",
       "3  [GeremyJasper]                [Music, Drama]   \n",
       "4     [SimonWest]              [Action, Comedy]   \n",
       "\n",
       "                                                plot               title  \\\n",
       "0  [Returning, from, Afghanistan,, Jessica,, a, S...       The Vigilante   \n",
       "1  [A, princess, joins, forces, with, seven, dwar...          Snow White   \n",
       "2  [An, orphaned, teen, hits, the, road, with, a,...  The Electric State   \n",
       "3  [A, farm, girl, is, on, an, epic, quest, to, r...             O'Dessa   \n",
       "4  [Stuck, at, a, dead, end, but, vying, for, the...             Old Guy   \n",
       "\n",
       "                                                tags  \n",
       "0  [Returning, from, Afghanistan,, Jessica,, a, S...  \n",
       "1  [A, princess, joins, forces, with, seven, dwar...  \n",
       "2  [An, orphaned, teen, hits, the, road, with, a,...  \n",
       "3  [A, farm, girl, is, on, an, epic, quest, to, r...  \n",
       "4  [Stuck, at, a, dead, end, but, vying, for, the...  "
      ]
     },
     "execution_count": 100,
     "metadata": {},
     "output_type": "execute_result"
    }
   ],
   "source": [
    "movies.head()"
   ]
  },
  {
   "cell_type": "code",
   "execution_count": 11,
   "id": "86063787-cb9b-47e0-b261-3a22083f83f9",
   "metadata": {},
   "outputs": [
    {
     "name": "stderr",
     "output_type": "stream",
     "text": [
      "C:\\Users\\sagar\\AppData\\Local\\Temp\\ipykernel_41592\\2830522905.py:1: SettingWithCopyWarning: \n",
      "A value is trying to be set on a copy of a slice from a DataFrame.\n",
      "Try using .loc[row_indexer,col_indexer] = value instead\n",
      "\n",
      "See the caveats in the documentation: https://pandas.pydata.org/pandas-docs/stable/user_guide/indexing.html#returning-a-view-versus-a-copy\n",
      "  movies['tags'] = movies['plot']+movies['cast']+movies['director']+movies['genres']\n"
     ]
    }
   ],
   "source": [
    "movies['tags'] = movies['plot']+movies['cast']+movies['director']+movies['genres']"
   ]
  },
  {
   "cell_type": "code",
   "execution_count": 17,
   "id": "c1b4eb22-12ab-4b8e-92d3-c42068fd9280",
   "metadata": {},
   "outputs": [
    {
     "data": {
      "text/html": [
       "<div>\n",
       "<style scoped>\n",
       "    .dataframe tbody tr th:only-of-type {\n",
       "        vertical-align: middle;\n",
       "    }\n",
       "\n",
       "    .dataframe tbody tr th {\n",
       "        vertical-align: top;\n",
       "    }\n",
       "\n",
       "    .dataframe thead th {\n",
       "        text-align: right;\n",
       "    }\n",
       "</style>\n",
       "<table border=\"1\" class=\"dataframe\">\n",
       "  <thead>\n",
       "    <tr style=\"text-align: right;\">\n",
       "      <th></th>\n",
       "      <th>_id</th>\n",
       "      <th>cast</th>\n",
       "      <th>director</th>\n",
       "      <th>genres</th>\n",
       "      <th>plot</th>\n",
       "      <th>title</th>\n",
       "      <th>tags</th>\n",
       "    </tr>\n",
       "  </thead>\n",
       "  <tbody>\n",
       "    <tr>\n",
       "      <th>0</th>\n",
       "      <td>67e016024ebb8c0dabc71b40</td>\n",
       "      <td>[JetJandreau, AlisonJayeHorowitz, AnaAlexander]</td>\n",
       "      <td>[LeeWhittaker]</td>\n",
       "      <td>[Thriller, Action]</td>\n",
       "      <td>[Returning, from, Afghanistan,, Jessica,, a, S...</td>\n",
       "      <td>The Vigilante</td>\n",
       "      <td>[Returning, from, Afghanistan,, Jessica,, a, S...</td>\n",
       "    </tr>\n",
       "    <tr>\n",
       "      <th>1</th>\n",
       "      <td>67e016024ebb8c0dabc71b41</td>\n",
       "      <td>[RachelZegler, GalGadot, AndrewBurnap]</td>\n",
       "      <td>[MarcWebb]</td>\n",
       "      <td>[Family, Fantasy]</td>\n",
       "      <td>[A, princess, joins, forces, with, seven, dwar...</td>\n",
       "      <td>Snow White</td>\n",
       "      <td>[A, princess, joins, forces, with, seven, dwar...</td>\n",
       "    </tr>\n",
       "    <tr>\n",
       "      <th>2</th>\n",
       "      <td>67e016024ebb8c0dabc71b42</td>\n",
       "      <td>[MillieBobbyBrown, ChrisPratt, KeHuyQuan]</td>\n",
       "      <td>[JoeRusso]</td>\n",
       "      <td>[Science Fiction, Adventure]</td>\n",
       "      <td>[An, orphaned, teen, hits, the, road, with, a,...</td>\n",
       "      <td>The Electric State</td>\n",
       "      <td>[An, orphaned, teen, hits, the, road, with, a,...</td>\n",
       "    </tr>\n",
       "    <tr>\n",
       "      <th>3</th>\n",
       "      <td>67e016024ebb8c0dabc71b43</td>\n",
       "      <td>[SadieSink, KelvinHarrison,Jr., MurrayBartlett]</td>\n",
       "      <td>[GeremyJasper]</td>\n",
       "      <td>[Music, Drama]</td>\n",
       "      <td>[A, farm, girl, is, on, an, epic, quest, to, r...</td>\n",
       "      <td>O'Dessa</td>\n",
       "      <td>[A, farm, girl, is, on, an, epic, quest, to, r...</td>\n",
       "    </tr>\n",
       "    <tr>\n",
       "      <th>4</th>\n",
       "      <td>67e016024ebb8c0dabc71b44</td>\n",
       "      <td>[ChristophWaltz, LucyLiu, CooperHoffman]</td>\n",
       "      <td>[SimonWest]</td>\n",
       "      <td>[Action, Comedy]</td>\n",
       "      <td>[Stuck, at, a, dead, end, but, vying, for, the...</td>\n",
       "      <td>Old Guy</td>\n",
       "      <td>[Stuck, at, a, dead, end, but, vying, for, the...</td>\n",
       "    </tr>\n",
       "  </tbody>\n",
       "</table>\n",
       "</div>"
      ],
      "text/plain": [
       "                        _id                                             cast  \\\n",
       "0  67e016024ebb8c0dabc71b40  [JetJandreau, AlisonJayeHorowitz, AnaAlexander]   \n",
       "1  67e016024ebb8c0dabc71b41           [RachelZegler, GalGadot, AndrewBurnap]   \n",
       "2  67e016024ebb8c0dabc71b42        [MillieBobbyBrown, ChrisPratt, KeHuyQuan]   \n",
       "3  67e016024ebb8c0dabc71b43  [SadieSink, KelvinHarrison,Jr., MurrayBartlett]   \n",
       "4  67e016024ebb8c0dabc71b44         [ChristophWaltz, LucyLiu, CooperHoffman]   \n",
       "\n",
       "         director                        genres  \\\n",
       "0  [LeeWhittaker]            [Thriller, Action]   \n",
       "1      [MarcWebb]             [Family, Fantasy]   \n",
       "2      [JoeRusso]  [Science Fiction, Adventure]   \n",
       "3  [GeremyJasper]                [Music, Drama]   \n",
       "4     [SimonWest]              [Action, Comedy]   \n",
       "\n",
       "                                                plot               title  \\\n",
       "0  [Returning, from, Afghanistan,, Jessica,, a, S...       The Vigilante   \n",
       "1  [A, princess, joins, forces, with, seven, dwar...          Snow White   \n",
       "2  [An, orphaned, teen, hits, the, road, with, a,...  The Electric State   \n",
       "3  [A, farm, girl, is, on, an, epic, quest, to, r...             O'Dessa   \n",
       "4  [Stuck, at, a, dead, end, but, vying, for, the...             Old Guy   \n",
       "\n",
       "                                                tags  \n",
       "0  [Returning, from, Afghanistan,, Jessica,, a, S...  \n",
       "1  [A, princess, joins, forces, with, seven, dwar...  \n",
       "2  [An, orphaned, teen, hits, the, road, with, a,...  \n",
       "3  [A, farm, girl, is, on, an, epic, quest, to, r...  \n",
       "4  [Stuck, at, a, dead, end, but, vying, for, the...  "
      ]
     },
     "execution_count": 17,
     "metadata": {},
     "output_type": "execute_result"
    }
   ],
   "source": [
    "movies.head()"
   ]
  },
  {
   "cell_type": "code",
   "execution_count": 12,
   "id": "5042d8ab-f89e-4e03-9ae7-7d4d0d4cf292",
   "metadata": {},
   "outputs": [
    {
     "data": {
      "text/html": [
       "<div>\n",
       "<style scoped>\n",
       "    .dataframe tbody tr th:only-of-type {\n",
       "        vertical-align: middle;\n",
       "    }\n",
       "\n",
       "    .dataframe tbody tr th {\n",
       "        vertical-align: top;\n",
       "    }\n",
       "\n",
       "    .dataframe thead th {\n",
       "        text-align: right;\n",
       "    }\n",
       "</style>\n",
       "<table border=\"1\" class=\"dataframe\">\n",
       "  <thead>\n",
       "    <tr style=\"text-align: right;\">\n",
       "      <th></th>\n",
       "      <th>_id</th>\n",
       "      <th>title</th>\n",
       "      <th>tags</th>\n",
       "    </tr>\n",
       "  </thead>\n",
       "  <tbody>\n",
       "    <tr>\n",
       "      <th>0</th>\n",
       "      <td>67e016024ebb8c0dabc71b40</td>\n",
       "      <td>The Vigilante</td>\n",
       "      <td>[Returning, from, Afghanistan,, Jessica,, a, S...</td>\n",
       "    </tr>\n",
       "    <tr>\n",
       "      <th>1</th>\n",
       "      <td>67e016024ebb8c0dabc71b41</td>\n",
       "      <td>Snow White</td>\n",
       "      <td>[A, princess, joins, forces, with, seven, dwar...</td>\n",
       "    </tr>\n",
       "    <tr>\n",
       "      <th>2</th>\n",
       "      <td>67e016024ebb8c0dabc71b42</td>\n",
       "      <td>The Electric State</td>\n",
       "      <td>[An, orphaned, teen, hits, the, road, with, a,...</td>\n",
       "    </tr>\n",
       "    <tr>\n",
       "      <th>3</th>\n",
       "      <td>67e016024ebb8c0dabc71b43</td>\n",
       "      <td>O'Dessa</td>\n",
       "      <td>[A, farm, girl, is, on, an, epic, quest, to, r...</td>\n",
       "    </tr>\n",
       "    <tr>\n",
       "      <th>4</th>\n",
       "      <td>67e016024ebb8c0dabc71b44</td>\n",
       "      <td>Old Guy</td>\n",
       "      <td>[Stuck, at, a, dead, end, but, vying, for, the...</td>\n",
       "    </tr>\n",
       "  </tbody>\n",
       "</table>\n",
       "</div>"
      ],
      "text/plain": [
       "                        _id               title  \\\n",
       "0  67e016024ebb8c0dabc71b40       The Vigilante   \n",
       "1  67e016024ebb8c0dabc71b41          Snow White   \n",
       "2  67e016024ebb8c0dabc71b42  The Electric State   \n",
       "3  67e016024ebb8c0dabc71b43             O'Dessa   \n",
       "4  67e016024ebb8c0dabc71b44             Old Guy   \n",
       "\n",
       "                                                tags  \n",
       "0  [Returning, from, Afghanistan,, Jessica,, a, S...  \n",
       "1  [A, princess, joins, forces, with, seven, dwar...  \n",
       "2  [An, orphaned, teen, hits, the, road, with, a,...  \n",
       "3  [A, farm, girl, is, on, an, epic, quest, to, r...  \n",
       "4  [Stuck, at, a, dead, end, but, vying, for, the...  "
      ]
     },
     "execution_count": 12,
     "metadata": {},
     "output_type": "execute_result"
    }
   ],
   "source": [
    "new_df = movies[['_id','title','tags']]\n",
    "new_df.head()"
   ]
  },
  {
   "cell_type": "code",
   "execution_count": 22,
   "id": "ddcc49b0-0734-47e0-8d71-da6c8ed83f2f",
   "metadata": {},
   "outputs": [
    {
     "name": "stderr",
     "output_type": "stream",
     "text": [
      "C:\\Users\\sagar\\AppData\\Local\\Temp\\ipykernel_41592\\487797088.py:1: SettingWithCopyWarning: \n",
      "A value is trying to be set on a copy of a slice from a DataFrame.\n",
      "Try using .loc[row_indexer,col_indexer] = value instead\n",
      "\n",
      "See the caveats in the documentation: https://pandas.pydata.org/pandas-docs/stable/user_guide/indexing.html#returning-a-view-versus-a-copy\n",
      "  new_df['tags']=new_df['tags'].apply(lambda x:\" \".join(x))\n"
     ]
    }
   ],
   "source": [
    "new_df['tags']=new_df['tags'].apply(lambda x:\" \".join(x))"
   ]
  },
  {
   "cell_type": "code",
   "execution_count": 13,
   "id": "35635130-98ff-4e93-8268-a96dfeda6b32",
   "metadata": {},
   "outputs": [],
   "source": [
    "import nltk"
   ]
  },
  {
   "cell_type": "code",
   "execution_count": 14,
   "id": "7f4b60d1-8503-4c56-a550-05af5c041327",
   "metadata": {},
   "outputs": [],
   "source": [
    "from nltk.stem.porter import PorterStemmer\n",
    "ps = PorterStemmer()"
   ]
  },
  {
   "cell_type": "code",
   "execution_count": 15,
   "id": "3a715690-d710-4420-b733-4d5e56e8fa90",
   "metadata": {},
   "outputs": [],
   "source": [
    "def stem(text):\n",
    "    y=[]\n",
    "    for i in text.split():\n",
    "        y.append(ps.stem(i))\n",
    "    return \" \".join(y)"
   ]
  },
  {
   "cell_type": "code",
   "execution_count": 16,
   "id": "8b2148b9-fe17-4877-bc31-4c53bf439810",
   "metadata": {},
   "outputs": [
    {
     "data": {
      "text/html": [
       "<div>\n",
       "<style scoped>\n",
       "    .dataframe tbody tr th:only-of-type {\n",
       "        vertical-align: middle;\n",
       "    }\n",
       "\n",
       "    .dataframe tbody tr th {\n",
       "        vertical-align: top;\n",
       "    }\n",
       "\n",
       "    .dataframe thead th {\n",
       "        text-align: right;\n",
       "    }\n",
       "</style>\n",
       "<table border=\"1\" class=\"dataframe\">\n",
       "  <thead>\n",
       "    <tr style=\"text-align: right;\">\n",
       "      <th></th>\n",
       "      <th>_id</th>\n",
       "      <th>title</th>\n",
       "      <th>tags</th>\n",
       "    </tr>\n",
       "  </thead>\n",
       "  <tbody>\n",
       "    <tr>\n",
       "      <th>0</th>\n",
       "      <td>67e016024ebb8c0dabc71b40</td>\n",
       "      <td>The Vigilante</td>\n",
       "      <td>[Returning, from, Afghanistan,, Jessica,, a, S...</td>\n",
       "    </tr>\n",
       "    <tr>\n",
       "      <th>1</th>\n",
       "      <td>67e016024ebb8c0dabc71b41</td>\n",
       "      <td>Snow White</td>\n",
       "      <td>[A, princess, joins, forces, with, seven, dwar...</td>\n",
       "    </tr>\n",
       "    <tr>\n",
       "      <th>2</th>\n",
       "      <td>67e016024ebb8c0dabc71b42</td>\n",
       "      <td>The Electric State</td>\n",
       "      <td>[An, orphaned, teen, hits, the, road, with, a,...</td>\n",
       "    </tr>\n",
       "    <tr>\n",
       "      <th>3</th>\n",
       "      <td>67e016024ebb8c0dabc71b43</td>\n",
       "      <td>O'Dessa</td>\n",
       "      <td>[A, farm, girl, is, on, an, epic, quest, to, r...</td>\n",
       "    </tr>\n",
       "    <tr>\n",
       "      <th>4</th>\n",
       "      <td>67e016024ebb8c0dabc71b44</td>\n",
       "      <td>Old Guy</td>\n",
       "      <td>[Stuck, at, a, dead, end, but, vying, for, the...</td>\n",
       "    </tr>\n",
       "    <tr>\n",
       "      <th>...</th>\n",
       "      <td>...</td>\n",
       "      <td>...</td>\n",
       "      <td>...</td>\n",
       "    </tr>\n",
       "    <tr>\n",
       "      <th>7637</th>\n",
       "      <td>67e0164f4ebb8c0dabc73a54</td>\n",
       "      <td>Flight 7500</td>\n",
       "      <td>[Flight, 7500, departs, Los, Angeles, Internat...</td>\n",
       "    </tr>\n",
       "    <tr>\n",
       "      <th>7638</th>\n",
       "      <td>67e0164f4ebb8c0dabc73a52</td>\n",
       "      <td>The House of Pleasure</td>\n",
       "      <td>[Lord, Gregory, Hutton, takes, his, beautiful,...</td>\n",
       "    </tr>\n",
       "    <tr>\n",
       "      <th>7639</th>\n",
       "      <td>67e0164f4ebb8c0dabc73a53</td>\n",
       "      <td>The Last Days of Pompeii</td>\n",
       "      <td>[Glaucus,, a, demobilized, centurion, returns,...</td>\n",
       "    </tr>\n",
       "    <tr>\n",
       "      <th>7640</th>\n",
       "      <td>67e0164f4ebb8c0dabc73a50</td>\n",
       "      <td>Destricted</td>\n",
       "      <td>[A, compilation, of, erotic, films, intended, ...</td>\n",
       "    </tr>\n",
       "    <tr>\n",
       "      <th>7641</th>\n",
       "      <td>67e0164f4ebb8c0dabc73a56</td>\n",
       "      <td>The Raven</td>\n",
       "      <td>[A, fictionalized, account, of, the, last, day...</td>\n",
       "    </tr>\n",
       "  </tbody>\n",
       "</table>\n",
       "<p>7642 rows × 3 columns</p>\n",
       "</div>"
      ],
      "text/plain": [
       "                           _id                     title  \\\n",
       "0     67e016024ebb8c0dabc71b40             The Vigilante   \n",
       "1     67e016024ebb8c0dabc71b41                Snow White   \n",
       "2     67e016024ebb8c0dabc71b42        The Electric State   \n",
       "3     67e016024ebb8c0dabc71b43                   O'Dessa   \n",
       "4     67e016024ebb8c0dabc71b44                   Old Guy   \n",
       "...                        ...                       ...   \n",
       "7637  67e0164f4ebb8c0dabc73a54               Flight 7500   \n",
       "7638  67e0164f4ebb8c0dabc73a52     The House of Pleasure   \n",
       "7639  67e0164f4ebb8c0dabc73a53  The Last Days of Pompeii   \n",
       "7640  67e0164f4ebb8c0dabc73a50                Destricted   \n",
       "7641  67e0164f4ebb8c0dabc73a56                 The Raven   \n",
       "\n",
       "                                                   tags  \n",
       "0     [Returning, from, Afghanistan,, Jessica,, a, S...  \n",
       "1     [A, princess, joins, forces, with, seven, dwar...  \n",
       "2     [An, orphaned, teen, hits, the, road, with, a,...  \n",
       "3     [A, farm, girl, is, on, an, epic, quest, to, r...  \n",
       "4     [Stuck, at, a, dead, end, but, vying, for, the...  \n",
       "...                                                 ...  \n",
       "7637  [Flight, 7500, departs, Los, Angeles, Internat...  \n",
       "7638  [Lord, Gregory, Hutton, takes, his, beautiful,...  \n",
       "7639  [Glaucus,, a, demobilized, centurion, returns,...  \n",
       "7640  [A, compilation, of, erotic, films, intended, ...  \n",
       "7641  [A, fictionalized, account, of, the, last, day...  \n",
       "\n",
       "[7642 rows x 3 columns]"
      ]
     },
     "execution_count": 16,
     "metadata": {},
     "output_type": "execute_result"
    }
   ],
   "source": [
    "new_df"
   ]
  },
  {
   "cell_type": "code",
   "execution_count": 23,
   "id": "e9761a93-0bc1-40d9-9f58-26c7f34f086a",
   "metadata": {},
   "outputs": [
    {
     "name": "stderr",
     "output_type": "stream",
     "text": [
      "C:\\Users\\sagar\\AppData\\Local\\Temp\\ipykernel_41592\\3213734980.py:1: SettingWithCopyWarning: \n",
      "A value is trying to be set on a copy of a slice from a DataFrame.\n",
      "Try using .loc[row_indexer,col_indexer] = value instead\n",
      "\n",
      "See the caveats in the documentation: https://pandas.pydata.org/pandas-docs/stable/user_guide/indexing.html#returning-a-view-versus-a-copy\n",
      "  new_df['tags'] = new_df['tags'].apply(stem)\n"
     ]
    }
   ],
   "source": [
    "new_df['tags'] = new_df['tags'].apply(stem)"
   ]
  },
  {
   "cell_type": "code",
   "execution_count": 101,
   "id": "d6ddb4b9-b2c0-41ff-a300-fe5a50c07efd",
   "metadata": {},
   "outputs": [
    {
     "data": {
      "text/plain": [
       "0    return from afghanistan jessica a spec op mari...\n",
       "Name: tags, dtype: object"
      ]
     },
     "execution_count": 101,
     "metadata": {},
     "output_type": "execute_result"
    }
   ],
   "source": [
    "new_df['tags'].head(1)"
   ]
  },
  {
   "cell_type": "code",
   "execution_count": 24,
   "id": "e6fbbfea-65e9-4c57-91a0-9c140f213529",
   "metadata": {},
   "outputs": [
    {
     "name": "stderr",
     "output_type": "stream",
     "text": [
      "C:\\Users\\sagar\\AppData\\Local\\Temp\\ipykernel_41592\\294752854.py:9: SettingWithCopyWarning: \n",
      "A value is trying to be set on a copy of a slice from a DataFrame.\n",
      "Try using .loc[row_indexer,col_indexer] = value instead\n",
      "\n",
      "See the caveats in the documentation: https://pandas.pydata.org/pandas-docs/stable/user_guide/indexing.html#returning-a-view-versus-a-copy\n",
      "  new_df['tags'] = new_df['tags'].apply(clean_text)\n",
      "C:\\Users\\sagar\\AppData\\Local\\Temp\\ipykernel_41592\\294752854.py:10: SettingWithCopyWarning: \n",
      "A value is trying to be set on a copy of a slice from a DataFrame.\n",
      "Try using .loc[row_indexer,col_indexer] = value instead\n",
      "\n",
      "See the caveats in the documentation: https://pandas.pydata.org/pandas-docs/stable/user_guide/indexing.html#returning-a-view-versus-a-copy\n",
      "  new_df['tags'] = new_df['tags'].apply(lambda x: ' '.join([word for word in x.split() if word != 'title']))\n"
     ]
    }
   ],
   "source": [
    "import unicodedata\n",
    "import re\n",
    "\n",
    "def clean_text(text):\n",
    "    text = unicodedata.normalize('NFKD', text).encode('ascii', 'ignore').decode('utf-8')\n",
    "    text = re.sub(r'[^a-zA-Z0-9\\s]', '', text.lower())\n",
    "    return text\n",
    "\n",
    "new_df['tags'] = new_df['tags'].apply(clean_text)\n",
    "new_df['tags'] = new_df['tags'].apply(lambda x: ' '.join([word for word in x.split() if word != 'title']))"
   ]
  },
  {
   "cell_type": "code",
   "execution_count": 17,
   "id": "6f226029",
   "metadata": {},
   "outputs": [],
   "source": [
    "from sklearn.feature_extraction.text import CountVectorizer\n",
    "cv = CountVectorizer(max_features=10000,stop_words='english')\n"
   ]
  },
  {
   "cell_type": "code",
   "execution_count": 25,
   "id": "661b3edd-19ed-4d36-b1ee-258d31539bb4",
   "metadata": {},
   "outputs": [],
   "source": [
    "vectors = cv.fit_transform(new_df['tags'])"
   ]
  },
  {
   "cell_type": "code",
   "execution_count": 26,
   "id": "1b7a07b3-a338-499f-8fad-3f3a5919d649",
   "metadata": {},
   "outputs": [
    {
     "data": {
      "text/plain": [
       "<7642x10000 sparse matrix of type '<class 'numpy.int64'>'\n",
       "\twith 188295 stored elements in Compressed Sparse Row format>"
      ]
     },
     "execution_count": 26,
     "metadata": {},
     "output_type": "execute_result"
    }
   ],
   "source": [
    "vectors"
   ]
  },
  {
   "cell_type": "code",
   "execution_count": 31,
   "id": "e7b16954-4ea4-4d72-82af-247cbdaa1236",
   "metadata": {},
   "outputs": [
    {
     "data": {
      "text/plain": [
       "scipy.sparse._csr.csr_matrix"
      ]
     },
     "execution_count": 31,
     "metadata": {},
     "output_type": "execute_result"
    }
   ],
   "source": [
    "type(vectors)\n"
   ]
  },
  {
   "cell_type": "code",
   "execution_count": 99,
   "id": "2ca307dd",
   "metadata": {},
   "outputs": [],
   "source": [
    "from scipy.sparse import save_npz\n",
    "save_npz(\"vectors.npz\", vectors)"
   ]
  },
  {
   "cell_type": "code",
   "execution_count": 30,
   "id": "d5da4b08-568c-4d04-bb53-6d0beddab9a3",
   "metadata": {},
   "outputs": [
    {
     "data": {
      "text/plain": [
       "<1x10000 sparse matrix of type '<class 'numpy.int64'>'\n",
       "\twith 21 stored elements in Compressed Sparse Row format>"
      ]
     },
     "execution_count": 30,
     "metadata": {},
     "output_type": "execute_result"
    }
   ],
   "source": [
    "vectors[0]"
   ]
  },
  {
   "cell_type": "code",
   "execution_count": 32,
   "id": "0218b428-8bdb-4846-85eb-364ae959992f",
   "metadata": {},
   "outputs": [
    {
     "name": "stdout",
     "output_type": "stream",
     "text": [
      "10000\n"
     ]
    }
   ],
   "source": [
    "features =  cv.get_feature_names_out() # Get the actual terms\n",
    "print(len(features))"
   ]
  },
  {
   "cell_type": "code",
   "execution_count": 47,
   "id": "f6047216-c869-4c7b-8f01-9d99404df9e4",
   "metadata": {},
   "outputs": [
    {
     "data": {
      "text/html": [
       "<div>\n",
       "<style scoped>\n",
       "    .dataframe tbody tr th:only-of-type {\n",
       "        vertical-align: middle;\n",
       "    }\n",
       "\n",
       "    .dataframe tbody tr th {\n",
       "        vertical-align: top;\n",
       "    }\n",
       "\n",
       "    .dataframe thead th {\n",
       "        text-align: right;\n",
       "    }\n",
       "</style>\n",
       "<table border=\"1\" class=\"dataframe\">\n",
       "  <thead>\n",
       "    <tr style=\"text-align: right;\">\n",
       "      <th></th>\n",
       "      <th>_id</th>\n",
       "      <th>title</th>\n",
       "    </tr>\n",
       "  </thead>\n",
       "  <tbody>\n",
       "    <tr>\n",
       "      <th>0</th>\n",
       "      <td>67e016024ebb8c0dabc71b40</td>\n",
       "      <td>The Vigilante</td>\n",
       "    </tr>\n",
       "    <tr>\n",
       "      <th>1</th>\n",
       "      <td>67e016024ebb8c0dabc71b41</td>\n",
       "      <td>Snow White</td>\n",
       "    </tr>\n",
       "    <tr>\n",
       "      <th>2</th>\n",
       "      <td>67e016024ebb8c0dabc71b42</td>\n",
       "      <td>The Electric State</td>\n",
       "    </tr>\n",
       "    <tr>\n",
       "      <th>3</th>\n",
       "      <td>67e016024ebb8c0dabc71b43</td>\n",
       "      <td>O'Dessa</td>\n",
       "    </tr>\n",
       "    <tr>\n",
       "      <th>4</th>\n",
       "      <td>67e016024ebb8c0dabc71b44</td>\n",
       "      <td>Old Guy</td>\n",
       "    </tr>\n",
       "    <tr>\n",
       "      <th>...</th>\n",
       "      <td>...</td>\n",
       "      <td>...</td>\n",
       "    </tr>\n",
       "    <tr>\n",
       "      <th>7637</th>\n",
       "      <td>67e0164f4ebb8c0dabc73a54</td>\n",
       "      <td>Flight 7500</td>\n",
       "    </tr>\n",
       "    <tr>\n",
       "      <th>7638</th>\n",
       "      <td>67e0164f4ebb8c0dabc73a52</td>\n",
       "      <td>The House of Pleasure</td>\n",
       "    </tr>\n",
       "    <tr>\n",
       "      <th>7639</th>\n",
       "      <td>67e0164f4ebb8c0dabc73a53</td>\n",
       "      <td>The Last Days of Pompeii</td>\n",
       "    </tr>\n",
       "    <tr>\n",
       "      <th>7640</th>\n",
       "      <td>67e0164f4ebb8c0dabc73a50</td>\n",
       "      <td>Destricted</td>\n",
       "    </tr>\n",
       "    <tr>\n",
       "      <th>7641</th>\n",
       "      <td>67e0164f4ebb8c0dabc73a56</td>\n",
       "      <td>The Raven</td>\n",
       "    </tr>\n",
       "  </tbody>\n",
       "</table>\n",
       "<p>7642 rows × 2 columns</p>\n",
       "</div>"
      ],
      "text/plain": [
       "                           _id                     title\n",
       "0     67e016024ebb8c0dabc71b40             The Vigilante\n",
       "1     67e016024ebb8c0dabc71b41                Snow White\n",
       "2     67e016024ebb8c0dabc71b42        The Electric State\n",
       "3     67e016024ebb8c0dabc71b43                   O'Dessa\n",
       "4     67e016024ebb8c0dabc71b44                   Old Guy\n",
       "...                        ...                       ...\n",
       "7637  67e0164f4ebb8c0dabc73a54               Flight 7500\n",
       "7638  67e0164f4ebb8c0dabc73a52     The House of Pleasure\n",
       "7639  67e0164f4ebb8c0dabc73a53  The Last Days of Pompeii\n",
       "7640  67e0164f4ebb8c0dabc73a50                Destricted\n",
       "7641  67e0164f4ebb8c0dabc73a56                 The Raven\n",
       "\n",
       "[7642 rows x 2 columns]"
      ]
     },
     "execution_count": 47,
     "metadata": {},
     "output_type": "execute_result"
    }
   ],
   "source": [
    "movie_metadata = new_df[['_id', 'title']]\n",
    "movie_metadata"
   ]
  },
  {
   "cell_type": "code",
   "execution_count": 34,
   "id": "4df42037-0cca-499b-88bf-324e7e573a07",
   "metadata": {},
   "outputs": [],
   "source": [
    "load_dotenv()\n",
    "COLLECTION_NAME_2=os.getenv(\"COLLECTION_NAME_2\")"
   ]
  },
  {
   "cell_type": "code",
   "execution_count": 35,
   "id": "9ef74953-ed6c-4e9b-9594-6026875ddac9",
   "metadata": {},
   "outputs": [],
   "source": [
    "client = MongoClient(MONGO_URI)\n",
    "db=client[DB_NAME]\n",
    "collection2 = db[COLLECTION_NAME_2]"
   ]
  },
  {
   "cell_type": "code",
   "execution_count": 36,
   "id": "790c9b6a-9643-43e1-91ec-7fd0b0593139",
   "metadata": {},
   "outputs": [
    {
     "data": {
      "text/plain": [
       "{'_id': ObjectId('68148f522cc6ee9da35f6546'),\n",
       " 'fullname': {'firstname': 'Gajadhar', 'lastname': 'Kumar'},\n",
       " 'email': 'gajadhark197@gmail.com',\n",
       " 'password': '$2b$10$CCYlLji./xPjJtzGTg.cauGSEXab0cF5H69w7ZQtSfW7g6QDfRw0q',\n",
       " 'favorites': [ObjectId('67e016444ebb8c0dabc73563')],\n",
       " 'likes': [ObjectId('67e0163d4ebb8c0dabc7325a'),\n",
       "  ObjectId('67e016444ebb8c0dabc73563')],\n",
       " 'dislikes': [],\n",
       " '__v': 1}"
      ]
     },
     "execution_count": 36,
     "metadata": {},
     "output_type": "execute_result"
    }
   ],
   "source": [
    "from bson import ObjectId\n",
    "user_id = ObjectId(\"68148f522cc6ee9da35f6546\")\n",
    "user_cursor = collection2.find_one({\"_id\":user_id})\n",
    "user_cursor"
   ]
  },
  {
   "cell_type": "code",
   "execution_count": 48,
   "id": "5baeb6fa-2526-4929-95e2-4b9031ea31b4",
   "metadata": {},
   "outputs": [],
   "source": [
    "def convert(user_doc):\n",
    "    flat_user = {\n",
    "        \"_id\": str(user_doc[\"_id\"]),\n",
    "        \"favorites\": [str(x) for x in user_doc.get(\"favorites\", [])],\n",
    "        \"likes\": [str(x) for x in user_doc.get(\"likes\", [])],\n",
    "    }\n",
    "    return pd.DataFrame([flat_user])\n"
   ]
  },
  {
   "cell_type": "code",
   "execution_count": 49,
   "id": "44b1bff9-3cfb-4699-959a-796b6a0ec738",
   "metadata": {},
   "outputs": [
    {
     "data": {
      "text/html": [
       "<div>\n",
       "<style scoped>\n",
       "    .dataframe tbody tr th:only-of-type {\n",
       "        vertical-align: middle;\n",
       "    }\n",
       "\n",
       "    .dataframe tbody tr th {\n",
       "        vertical-align: top;\n",
       "    }\n",
       "\n",
       "    .dataframe thead th {\n",
       "        text-align: right;\n",
       "    }\n",
       "</style>\n",
       "<table border=\"1\" class=\"dataframe\">\n",
       "  <thead>\n",
       "    <tr style=\"text-align: right;\">\n",
       "      <th></th>\n",
       "      <th>_id</th>\n",
       "      <th>favorites</th>\n",
       "      <th>likes</th>\n",
       "    </tr>\n",
       "  </thead>\n",
       "  <tbody>\n",
       "    <tr>\n",
       "      <th>0</th>\n",
       "      <td>68148f522cc6ee9da35f6546</td>\n",
       "      <td>[67e016444ebb8c0dabc73563]</td>\n",
       "      <td>[67e0163d4ebb8c0dabc7325a, 67e016444ebb8c0dabc...</td>\n",
       "    </tr>\n",
       "  </tbody>\n",
       "</table>\n",
       "</div>"
      ],
      "text/plain": [
       "                        _id                   favorites  \\\n",
       "0  68148f522cc6ee9da35f6546  [67e016444ebb8c0dabc73563]   \n",
       "\n",
       "                                               likes  \n",
       "0  [67e0163d4ebb8c0dabc7325a, 67e016444ebb8c0dabc...  "
      ]
     },
     "execution_count": 49,
     "metadata": {},
     "output_type": "execute_result"
    }
   ],
   "source": [
    "user = convert(user_cursor)\n",
    "user"
   ]
  },
  {
   "cell_type": "code",
   "execution_count": 102,
   "id": "e84a3329-2bba-4233-9364-a6fae76ac461",
   "metadata": {},
   "outputs": [
    {
     "data": {
      "text/plain": [
       "0    [67e016444ebb8c0dabc73563]\n",
       "Name: favorites, dtype: object"
      ]
     },
     "execution_count": 102,
     "metadata": {},
     "output_type": "execute_result"
    }
   ],
   "source": [
    "user['favorites']"
   ]
  },
  {
   "cell_type": "code",
   "execution_count": 105,
   "id": "2aa314ba-517f-462c-bec6-647b6e258679",
   "metadata": {},
   "outputs": [
    {
     "name": "stderr",
     "output_type": "stream",
     "text": [
      "C:\\Users\\sagar\\AppData\\Local\\Temp\\ipykernel_41592\\3872817506.py:1: SettingWithCopyWarning: \n",
      "A value is trying to be set on a copy of a slice from a DataFrame.\n",
      "Try using .loc[row_indexer,col_indexer] = value instead\n",
      "\n",
      "See the caveats in the documentation: https://pandas.pydata.org/pandas-docs/stable/user_guide/indexing.html#returning-a-view-versus-a-copy\n",
      "  movie_metadata['_id'] = movie_metadata['_id'].astype(str)\n"
     ]
    }
   ],
   "source": [
    "movie_metadata['_id'] = movie_metadata['_id'].astype(str)\n",
    "liked_ids_str = user['likes'].iloc[0]\n",
    "favourite_ids_str = user['favorites'].iloc[0]\n"
   ]
  },
  {
   "cell_type": "code",
   "execution_count": 106,
   "id": "e5e98c38-66ab-4ac8-8ba2-cfafc94672ea",
   "metadata": {},
   "outputs": [],
   "source": [
    "def fetch_from_movie_vector(movie_indices, movie_vector_df):\n",
    "    movie_indices = metadata[metadata['_id'].isin(liked_ids_str)].index\n",
    "    return vectors[movie_indices]\n",
    "\n",
    "        "
   ]
  },
  {
   "cell_type": "code",
   "execution_count": 108,
   "id": "688da400-e3ba-474a-a811-b9021fd7efef",
   "metadata": {
    "scrolled": true
   },
   "outputs": [],
   "source": [
    " liked_indices = movie_metadata[movie_metadata['_id'].isin(liked_ids_str)].index\n",
    " favorite_indices = movie_metadata[movie_metadata['_id'].isin(favourite_ids_str)].index\n",
    "liked_vectors_sparse = vectors[liked_indices]\n",
    "favourite_vectors_sparse = vectors[favorite_indices]"
   ]
  },
  {
   "cell_type": "code",
   "execution_count": 87,
   "id": "84510135-9d99-4748-96e5-121653bdb58a",
   "metadata": {},
   "outputs": [
    {
     "data": {
      "text/plain": [
       "<2x10000 sparse matrix of type '<class 'numpy.int64'>'\n",
       "\twith 59 stored elements in Compressed Sparse Row format>"
      ]
     },
     "execution_count": 87,
     "metadata": {},
     "output_type": "execute_result"
    }
   ],
   "source": [
    "liked_vectors_sparse"
   ]
  },
  {
   "cell_type": "code",
   "execution_count": 109,
   "id": "3a4d7d89",
   "metadata": {},
   "outputs": [],
   "source": [
    "from scipy.sparse import vstack"
   ]
  },
  {
   "cell_type": "code",
   "execution_count": 110,
   "id": "87786685",
   "metadata": {},
   "outputs": [],
   "source": [
    "if liked_vectors_sparse.shape[0] > 0 and favourite_vectors_sparse.shape[0] > 0:\n",
    "    combined_vectors = vstack([liked_vectors_sparse, favourite_vectors_sparse])\n",
    "elif liked_vectors_sparse.shape[0] > 0:\n",
    "    combined_vectors = liked_vectors_sparse\n",
    "elif favourite_vectors_sparse.shape[0] > 0:\n",
    "    combined_vectors = favourite_vectors_sparse\n",
    "else:\n",
    "    combined_vectors = None\n",
    "if combined_vectors is not None and combined_vectors.shape[0] > 0:\n",
    "    user_profile_vector = combined_vectors.mean(axis=0).A\n",
    "else:\n",
    "    user_profile_vector = None\n"
   ]
  },
  {
   "cell_type": "code",
   "execution_count": 111,
   "id": "c5e5c48e-8076-4ad4-b7d7-d12f7b538830",
   "metadata": {},
   "outputs": [
    {
     "data": {
      "text/plain": [
       "array([[0., 0., 0., ..., 0., 0., 0.]])"
      ]
     },
     "execution_count": 111,
     "metadata": {},
     "output_type": "execute_result"
    }
   ],
   "source": [
    "user_profile_vector"
   ]
  },
  {
   "cell_type": "code",
   "execution_count": 112,
   "id": "5f66c68e",
   "metadata": {},
   "outputs": [],
   "source": [
    "mask = ~movie_metadata['_id'].isin(liked_ids_str)\n",
    "remaining_indices = movie_metadata[mask].index\n",
    "remaining_vectors_sparse = vectors[remaining_indices]"
   ]
  },
  {
   "cell_type": "code",
   "execution_count": 113,
   "id": "5c0d01b9-7507-4a64-846f-1befe4dbeb19",
   "metadata": {},
   "outputs": [],
   "source": [
    "from sklearn.metrics.pairwise import cosine_similarity"
   ]
  },
  {
   "cell_type": "code",
   "execution_count": 114,
   "id": "fe984c31-133d-42e4-b6e7-c3f0bac35124",
   "metadata": {},
   "outputs": [],
   "source": [
    "similarity = cosine_similarity(user_profile_vector, remaining_vectors_sparse)"
   ]
  },
  {
   "cell_type": "code",
   "execution_count": 115,
   "id": "eb2583b2-8949-477f-a4b6-280847115026",
   "metadata": {},
   "outputs": [
    {
     "data": {
      "text/plain": [
       "[(3235, 0.30692243583723844),\n",
       " (492, 0.3037136692389104),\n",
       " (7229, 0.2888129120831016),\n",
       " (3199, 0.2870152459659544),\n",
       " (917, 0.2864609401147559)]"
      ]
     },
     "execution_count": 115,
     "metadata": {},
     "output_type": "execute_result"
    }
   ],
   "source": [
    "sorted(list(enumerate(similarity[0])),reverse=True,key=lambda x:x[1])[1:6]"
   ]
  },
  {
   "cell_type": "code",
   "execution_count": 120,
   "id": "dae2a556",
   "metadata": {},
   "outputs": [],
   "source": [
    "def recommendMovie(liked_ids_str,similarity):\n",
    "    recommendations = []\n",
    "\n",
    "    if isinstance(liked_ids_str, str):\n",
    "        liked_ids_str = [liked_ids_str]\n",
    "    elif isinstance(liked_ids_str, list):\n",
    "        liked_ids_str = [str(x) for x in liked_ids_str]\n",
    "\n",
    "    movie_metadata['_id'] = movie_metadata['_id'].astype(str).str.strip()\n",
    "    filtered_metadata = movie_metadata[~movie_metadata['_id'].isin(liked_ids_str)].reset_index(drop=True)\n",
    "\n",
    "    top_indices = np.argsort(similarity[0])[::-1][:5]\n",
    "\n",
    "    for i in top_indices:\n",
    "        row = filtered_metadata.iloc[i]\n",
    "        old_movies['_id'] = old_movies['_id'].astype(str)\n",
    "        movie_obj = old_movies[old_movies['_id'] == str(row['_id'])]\n",
    "\n",
    "        if not movie_obj.empty:\n",
    "            movie_obj = movie_obj.iloc[0]\n",
    "            recommendations.append({\n",
    "                '_id': str(movie_obj['_id']),\n",
    "                'title': movie_obj['title'],\n",
    "                'genres': movie_obj['genres'],\n",
    "                'poster': movie_obj['poster']\n",
    "            })\n",
    "\n",
    "    return recommendations\n"
   ]
  },
  {
   "cell_type": "code",
   "execution_count": 121,
   "id": "b4ffaab2-c20c-405e-9193-59a469b142b5",
   "metadata": {},
   "outputs": [
    {
     "name": "stderr",
     "output_type": "stream",
     "text": [
      "C:\\Users\\sagar\\AppData\\Local\\Temp\\ipykernel_41592\\3793137015.py:9: SettingWithCopyWarning: \n",
      "A value is trying to be set on a copy of a slice from a DataFrame.\n",
      "Try using .loc[row_indexer,col_indexer] = value instead\n",
      "\n",
      "See the caveats in the documentation: https://pandas.pydata.org/pandas-docs/stable/user_guide/indexing.html#returning-a-view-versus-a-copy\n",
      "  movie_metadata['_id'] = movie_metadata['_id'].astype(str).str.strip()\n"
     ]
    },
    {
     "data": {
      "text/plain": [
       "[{'_id': '67e016024ebb8c0dabc71b55',\n",
       "  'title': 'Novocaine',\n",
       "  'genres': ['Action', 'Comedy', 'Thriller'],\n",
       "  'poster': 'https://image.tmdb.org/t/p/w500/xmMHGz9dVRaMY6rRAlEX4W0Wdhm.jpg'},\n",
       " {'_id': '67e016244ebb8c0dabc7283a',\n",
       "  'title': 'School Spirit',\n",
       "  'genres': ['Comedy'],\n",
       "  'poster': 'https://image.tmdb.org/t/p/w500/e32ycfsGllbghXstP3PMvDZfm6M.jpg'},\n",
       " {'_id': '67e016074ebb8c0dabc71d30',\n",
       "  'title': 'The Girl Next Door',\n",
       "  'genres': ['Comedy', 'Romance'],\n",
       "  'poster': 'https://image.tmdb.org/t/p/w500/5mVyFHSY2rSsNgD4NfEwV82HigU.jpg'},\n",
       " {'_id': '67e0164b4ebb8c0dabc738b0',\n",
       "  'title': 'The Last Kiss',\n",
       "  'genres': ['Comedy', 'Drama', 'Romance'],\n",
       "  'poster': 'https://image.tmdb.org/t/p/w500/k8Mdrwr5iv43iK8QDS49yvU7L6j.jpg'},\n",
       " {'_id': '67e016244ebb8c0dabc72814',\n",
       "  'title': 'Another Cinderella Story',\n",
       "  'genres': ['Comedy', 'Music'],\n",
       "  'poster': 'https://image.tmdb.org/t/p/w500/Acw0Syw7s8QFTCkdJgtGR2Eg0SB.jpg'}]"
      ]
     },
     "execution_count": 121,
     "metadata": {},
     "output_type": "execute_result"
    }
   ],
   "source": [
    "similarity = cosine_similarity(user_profile_vector, remaining_vectors_sparse)\n",
    "recommendMovie(liked_ids_str, similarity)"
   ]
  },
  {
   "cell_type": "code",
   "execution_count": null,
   "id": "afd4db0b-5b15-4614-a36c-1097ac43c212",
   "metadata": {},
   "outputs": [],
   "source": [
    "#completed."
   ]
  },
  {
   "cell_type": "code",
   "execution_count": null,
   "id": "408ced75-7e2a-4bbc-9554-d46992047fe6",
   "metadata": {},
   "outputs": [],
   "source": []
  }
 ],
 "metadata": {
  "kernelspec": {
   "display_name": "base",
   "language": "python",
   "name": "python3"
  },
  "language_info": {
   "codemirror_mode": {
    "name": "ipython",
    "version": 3
   },
   "file_extension": ".py",
   "mimetype": "text/x-python",
   "name": "python",
   "nbconvert_exporter": "python",
   "pygments_lexer": "ipython3",
   "version": "3.12.7"
  }
 },
 "nbformat": 4,
 "nbformat_minor": 5
}
